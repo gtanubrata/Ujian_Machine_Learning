{
 "cells": [
  {
   "cell_type": "markdown",
   "metadata": {},
   "source": [
    "# Gabriella JC-DS-JKT-08 no. 3"
   ]
  },
  {
   "cell_type": "markdown",
   "metadata": {
    "ExecuteTime": {
     "end_time": "2020-06-12T06:21:57.825565Z",
     "start_time": "2020-06-12T06:21:57.819568Z"
    }
   },
   "source": [
    "Tujuan: prediksi apakah booking hotel dicancel atau tidak oleh customer"
   ]
  },
  {
   "cell_type": "markdown",
   "metadata": {},
   "source": [
    "## Init"
   ]
  },
  {
   "cell_type": "code",
   "execution_count": 37,
   "metadata": {
    "ExecuteTime": {
     "end_time": "2020-06-12T07:41:39.291182Z",
     "start_time": "2020-06-12T07:41:39.282188Z"
    }
   },
   "outputs": [],
   "source": [
    "import numpy as np\n",
    "import pandas as pd\n",
    "\n",
    "import matplotlib.pyplot as plt\n",
    "%matplotlib inline\n",
    "plt.style.use('fivethirtyeight')\n",
    "import seaborn as sns"
   ]
  },
  {
   "cell_type": "code",
   "execution_count": 79,
   "metadata": {
    "ExecuteTime": {
     "end_time": "2020-06-12T07:46:28.357492Z",
     "start_time": "2020-06-12T07:46:27.687641Z"
    }
   },
   "outputs": [],
   "source": [
    "from scipy.stats import shapiro\n",
    "from sklearn.preprocessing import LabelEncoder"
   ]
  },
  {
   "cell_type": "code",
   "execution_count": 39,
   "metadata": {
    "ExecuteTime": {
     "end_time": "2020-06-12T07:41:40.038888Z",
     "start_time": "2020-06-12T07:41:39.514044Z"
    }
   },
   "outputs": [],
   "source": [
    "df = pd.read_csv('hotel_bookings.csv')\n",
    "df = df[:3000]"
   ]
  },
  {
   "cell_type": "code",
   "execution_count": 40,
   "metadata": {
    "ExecuteTime": {
     "end_time": "2020-06-12T07:41:40.057781Z",
     "start_time": "2020-06-12T07:41:40.040788Z"
    }
   },
   "outputs": [
    {
     "name": "stdout",
     "output_type": "stream",
     "text": [
      "<class 'pandas.core.frame.DataFrame'>\n",
      "RangeIndex: 3000 entries, 0 to 2999\n",
      "Data columns (total 32 columns):\n",
      " #   Column                          Non-Null Count  Dtype  \n",
      "---  ------                          --------------  -----  \n",
      " 0   hotel                           3000 non-null   object \n",
      " 1   is_canceled                     3000 non-null   int64  \n",
      " 2   lead_time                       3000 non-null   int64  \n",
      " 3   arrival_date_year               3000 non-null   int64  \n",
      " 4   arrival_date_month              3000 non-null   object \n",
      " 5   arrival_date_week_number        3000 non-null   int64  \n",
      " 6   arrival_date_day_of_month       3000 non-null   int64  \n",
      " 7   stays_in_weekend_nights         3000 non-null   int64  \n",
      " 8   stays_in_week_nights            3000 non-null   int64  \n",
      " 9   adults                          3000 non-null   int64  \n",
      " 10  children                        3000 non-null   float64\n",
      " 11  babies                          3000 non-null   int64  \n",
      " 12  meal                            3000 non-null   object \n",
      " 13  country                         2999 non-null   object \n",
      " 14  market_segment                  3000 non-null   object \n",
      " 15  distribution_channel            3000 non-null   object \n",
      " 16  is_repeated_guest               3000 non-null   int64  \n",
      " 17  previous_cancellations          3000 non-null   int64  \n",
      " 18  previous_bookings_not_canceled  3000 non-null   int64  \n",
      " 19  reserved_room_type              3000 non-null   object \n",
      " 20  assigned_room_type              3000 non-null   object \n",
      " 21  booking_changes                 3000 non-null   int64  \n",
      " 22  deposit_type                    3000 non-null   object \n",
      " 23  agent                           2535 non-null   float64\n",
      " 24  company                         123 non-null    float64\n",
      " 25  days_in_waiting_list            3000 non-null   int64  \n",
      " 26  customer_type                   3000 non-null   object \n",
      " 27  adr                             3000 non-null   float64\n",
      " 28  required_car_parking_spaces     3000 non-null   int64  \n",
      " 29  total_of_special_requests       3000 non-null   int64  \n",
      " 30  reservation_status              3000 non-null   object \n",
      " 31  reservation_status_date         3000 non-null   object \n",
      "dtypes: float64(4), int64(16), object(12)\n",
      "memory usage: 609.4+ KB\n"
     ]
    }
   ],
   "source": [
    "df.info()"
   ]
  },
  {
   "cell_type": "code",
   "execution_count": 41,
   "metadata": {
    "ExecuteTime": {
     "end_time": "2020-06-12T07:41:40.217714Z",
     "start_time": "2020-06-12T07:41:40.059777Z"
    }
   },
   "outputs": [
    {
     "data": {
      "text/plain": [
       "(3000, 32)"
      ]
     },
     "execution_count": 41,
     "metadata": {},
     "output_type": "execute_result"
    }
   ],
   "source": [
    "df.shape"
   ]
  },
  {
   "cell_type": "code",
   "execution_count": 42,
   "metadata": {
    "ExecuteTime": {
     "end_time": "2020-06-12T07:41:40.403448Z",
     "start_time": "2020-06-12T07:41:40.218714Z"
    }
   },
   "outputs": [
    {
     "data": {
      "text/html": [
       "<div>\n",
       "<style scoped>\n",
       "    .dataframe tbody tr th:only-of-type {\n",
       "        vertical-align: middle;\n",
       "    }\n",
       "\n",
       "    .dataframe tbody tr th {\n",
       "        vertical-align: top;\n",
       "    }\n",
       "\n",
       "    .dataframe thead th {\n",
       "        text-align: right;\n",
       "    }\n",
       "</style>\n",
       "<table border=\"1\" class=\"dataframe\">\n",
       "  <thead>\n",
       "    <tr style=\"text-align: right;\">\n",
       "      <th></th>\n",
       "      <th>hotel</th>\n",
       "      <th>is_canceled</th>\n",
       "      <th>lead_time</th>\n",
       "      <th>arrival_date_year</th>\n",
       "      <th>arrival_date_month</th>\n",
       "      <th>arrival_date_week_number</th>\n",
       "      <th>arrival_date_day_of_month</th>\n",
       "      <th>stays_in_weekend_nights</th>\n",
       "      <th>stays_in_week_nights</th>\n",
       "      <th>adults</th>\n",
       "      <th>...</th>\n",
       "      <th>deposit_type</th>\n",
       "      <th>agent</th>\n",
       "      <th>company</th>\n",
       "      <th>days_in_waiting_list</th>\n",
       "      <th>customer_type</th>\n",
       "      <th>adr</th>\n",
       "      <th>required_car_parking_spaces</th>\n",
       "      <th>total_of_special_requests</th>\n",
       "      <th>reservation_status</th>\n",
       "      <th>reservation_status_date</th>\n",
       "    </tr>\n",
       "  </thead>\n",
       "  <tbody>\n",
       "    <tr>\n",
       "      <th>0</th>\n",
       "      <td>Resort Hotel</td>\n",
       "      <td>0</td>\n",
       "      <td>342</td>\n",
       "      <td>2015</td>\n",
       "      <td>July</td>\n",
       "      <td>27</td>\n",
       "      <td>1</td>\n",
       "      <td>0</td>\n",
       "      <td>0</td>\n",
       "      <td>2</td>\n",
       "      <td>...</td>\n",
       "      <td>No Deposit</td>\n",
       "      <td>NaN</td>\n",
       "      <td>NaN</td>\n",
       "      <td>0</td>\n",
       "      <td>Transient</td>\n",
       "      <td>0.0</td>\n",
       "      <td>0</td>\n",
       "      <td>0</td>\n",
       "      <td>Check-Out</td>\n",
       "      <td>2015-07-01</td>\n",
       "    </tr>\n",
       "    <tr>\n",
       "      <th>1</th>\n",
       "      <td>Resort Hotel</td>\n",
       "      <td>0</td>\n",
       "      <td>737</td>\n",
       "      <td>2015</td>\n",
       "      <td>July</td>\n",
       "      <td>27</td>\n",
       "      <td>1</td>\n",
       "      <td>0</td>\n",
       "      <td>0</td>\n",
       "      <td>2</td>\n",
       "      <td>...</td>\n",
       "      <td>No Deposit</td>\n",
       "      <td>NaN</td>\n",
       "      <td>NaN</td>\n",
       "      <td>0</td>\n",
       "      <td>Transient</td>\n",
       "      <td>0.0</td>\n",
       "      <td>0</td>\n",
       "      <td>0</td>\n",
       "      <td>Check-Out</td>\n",
       "      <td>2015-07-01</td>\n",
       "    </tr>\n",
       "    <tr>\n",
       "      <th>2</th>\n",
       "      <td>Resort Hotel</td>\n",
       "      <td>0</td>\n",
       "      <td>7</td>\n",
       "      <td>2015</td>\n",
       "      <td>July</td>\n",
       "      <td>27</td>\n",
       "      <td>1</td>\n",
       "      <td>0</td>\n",
       "      <td>1</td>\n",
       "      <td>1</td>\n",
       "      <td>...</td>\n",
       "      <td>No Deposit</td>\n",
       "      <td>NaN</td>\n",
       "      <td>NaN</td>\n",
       "      <td>0</td>\n",
       "      <td>Transient</td>\n",
       "      <td>75.0</td>\n",
       "      <td>0</td>\n",
       "      <td>0</td>\n",
       "      <td>Check-Out</td>\n",
       "      <td>2015-07-02</td>\n",
       "    </tr>\n",
       "    <tr>\n",
       "      <th>3</th>\n",
       "      <td>Resort Hotel</td>\n",
       "      <td>0</td>\n",
       "      <td>13</td>\n",
       "      <td>2015</td>\n",
       "      <td>July</td>\n",
       "      <td>27</td>\n",
       "      <td>1</td>\n",
       "      <td>0</td>\n",
       "      <td>1</td>\n",
       "      <td>1</td>\n",
       "      <td>...</td>\n",
       "      <td>No Deposit</td>\n",
       "      <td>304.0</td>\n",
       "      <td>NaN</td>\n",
       "      <td>0</td>\n",
       "      <td>Transient</td>\n",
       "      <td>75.0</td>\n",
       "      <td>0</td>\n",
       "      <td>0</td>\n",
       "      <td>Check-Out</td>\n",
       "      <td>2015-07-02</td>\n",
       "    </tr>\n",
       "    <tr>\n",
       "      <th>4</th>\n",
       "      <td>Resort Hotel</td>\n",
       "      <td>0</td>\n",
       "      <td>14</td>\n",
       "      <td>2015</td>\n",
       "      <td>July</td>\n",
       "      <td>27</td>\n",
       "      <td>1</td>\n",
       "      <td>0</td>\n",
       "      <td>2</td>\n",
       "      <td>2</td>\n",
       "      <td>...</td>\n",
       "      <td>No Deposit</td>\n",
       "      <td>240.0</td>\n",
       "      <td>NaN</td>\n",
       "      <td>0</td>\n",
       "      <td>Transient</td>\n",
       "      <td>98.0</td>\n",
       "      <td>0</td>\n",
       "      <td>1</td>\n",
       "      <td>Check-Out</td>\n",
       "      <td>2015-07-03</td>\n",
       "    </tr>\n",
       "  </tbody>\n",
       "</table>\n",
       "<p>5 rows × 32 columns</p>\n",
       "</div>"
      ],
      "text/plain": [
       "          hotel  is_canceled  lead_time  arrival_date_year arrival_date_month  \\\n",
       "0  Resort Hotel            0        342               2015               July   \n",
       "1  Resort Hotel            0        737               2015               July   \n",
       "2  Resort Hotel            0          7               2015               July   \n",
       "3  Resort Hotel            0         13               2015               July   \n",
       "4  Resort Hotel            0         14               2015               July   \n",
       "\n",
       "   arrival_date_week_number  arrival_date_day_of_month  \\\n",
       "0                        27                          1   \n",
       "1                        27                          1   \n",
       "2                        27                          1   \n",
       "3                        27                          1   \n",
       "4                        27                          1   \n",
       "\n",
       "   stays_in_weekend_nights  stays_in_week_nights  adults  ...  deposit_type  \\\n",
       "0                        0                     0       2  ...    No Deposit   \n",
       "1                        0                     0       2  ...    No Deposit   \n",
       "2                        0                     1       1  ...    No Deposit   \n",
       "3                        0                     1       1  ...    No Deposit   \n",
       "4                        0                     2       2  ...    No Deposit   \n",
       "\n",
       "   agent company days_in_waiting_list customer_type   adr  \\\n",
       "0    NaN     NaN                    0     Transient   0.0   \n",
       "1    NaN     NaN                    0     Transient   0.0   \n",
       "2    NaN     NaN                    0     Transient  75.0   \n",
       "3  304.0     NaN                    0     Transient  75.0   \n",
       "4  240.0     NaN                    0     Transient  98.0   \n",
       "\n",
       "   required_car_parking_spaces  total_of_special_requests  reservation_status  \\\n",
       "0                            0                          0           Check-Out   \n",
       "1                            0                          0           Check-Out   \n",
       "2                            0                          0           Check-Out   \n",
       "3                            0                          0           Check-Out   \n",
       "4                            0                          1           Check-Out   \n",
       "\n",
       "  reservation_status_date  \n",
       "0              2015-07-01  \n",
       "1              2015-07-01  \n",
       "2              2015-07-02  \n",
       "3              2015-07-02  \n",
       "4              2015-07-03  \n",
       "\n",
       "[5 rows x 32 columns]"
      ]
     },
     "execution_count": 42,
     "metadata": {},
     "output_type": "execute_result"
    }
   ],
   "source": [
    "df.head()"
   ]
  },
  {
   "cell_type": "code",
   "execution_count": 43,
   "metadata": {
    "ExecuteTime": {
     "end_time": "2020-06-12T07:41:40.599536Z",
     "start_time": "2020-06-12T07:41:40.404445Z"
    }
   },
   "outputs": [
    {
     "data": {
      "text/html": [
       "<div>\n",
       "<style scoped>\n",
       "    .dataframe tbody tr th:only-of-type {\n",
       "        vertical-align: middle;\n",
       "    }\n",
       "\n",
       "    .dataframe tbody tr th {\n",
       "        vertical-align: top;\n",
       "    }\n",
       "\n",
       "    .dataframe thead th {\n",
       "        text-align: right;\n",
       "    }\n",
       "</style>\n",
       "<table border=\"1\" class=\"dataframe\">\n",
       "  <thead>\n",
       "    <tr style=\"text-align: right;\">\n",
       "      <th></th>\n",
       "      <th>is_canceled</th>\n",
       "      <th>lead_time</th>\n",
       "      <th>arrival_date_year</th>\n",
       "      <th>arrival_date_week_number</th>\n",
       "      <th>arrival_date_day_of_month</th>\n",
       "      <th>stays_in_weekend_nights</th>\n",
       "      <th>stays_in_week_nights</th>\n",
       "      <th>adults</th>\n",
       "      <th>children</th>\n",
       "      <th>babies</th>\n",
       "      <th>is_repeated_guest</th>\n",
       "      <th>previous_cancellations</th>\n",
       "      <th>previous_bookings_not_canceled</th>\n",
       "      <th>booking_changes</th>\n",
       "      <th>agent</th>\n",
       "      <th>company</th>\n",
       "      <th>days_in_waiting_list</th>\n",
       "      <th>adr</th>\n",
       "      <th>required_car_parking_spaces</th>\n",
       "      <th>total_of_special_requests</th>\n",
       "    </tr>\n",
       "  </thead>\n",
       "  <tbody>\n",
       "    <tr>\n",
       "      <th>count</th>\n",
       "      <td>3000.000000</td>\n",
       "      <td>3000.000000</td>\n",
       "      <td>3000.0</td>\n",
       "      <td>3000.000000</td>\n",
       "      <td>3000.000000</td>\n",
       "      <td>3000.000000</td>\n",
       "      <td>3000.000000</td>\n",
       "      <td>3000.000000</td>\n",
       "      <td>3000.000000</td>\n",
       "      <td>3000.000000</td>\n",
       "      <td>3000.0</td>\n",
       "      <td>3000.0</td>\n",
       "      <td>3000.0</td>\n",
       "      <td>3000.000000</td>\n",
       "      <td>2535.000000</td>\n",
       "      <td>123.000000</td>\n",
       "      <td>3000.000000</td>\n",
       "      <td>3000.000000</td>\n",
       "      <td>3000.000000</td>\n",
       "      <td>3000.000000</td>\n",
       "    </tr>\n",
       "    <tr>\n",
       "      <th>mean</th>\n",
       "      <td>0.354333</td>\n",
       "      <td>63.740667</td>\n",
       "      <td>2015.0</td>\n",
       "      <td>35.939000</td>\n",
       "      <td>15.072333</td>\n",
       "      <td>1.316000</td>\n",
       "      <td>3.496000</td>\n",
       "      <td>2.033000</td>\n",
       "      <td>0.139000</td>\n",
       "      <td>0.019667</td>\n",
       "      <td>0.0</td>\n",
       "      <td>0.0</td>\n",
       "      <td>0.0</td>\n",
       "      <td>0.210333</td>\n",
       "      <td>209.945562</td>\n",
       "      <td>221.178862</td>\n",
       "      <td>0.345667</td>\n",
       "      <td>105.005467</td>\n",
       "      <td>0.132000</td>\n",
       "      <td>0.728000</td>\n",
       "    </tr>\n",
       "    <tr>\n",
       "      <th>std</th>\n",
       "      <td>0.478391</td>\n",
       "      <td>61.241921</td>\n",
       "      <td>0.0</td>\n",
       "      <td>5.616327</td>\n",
       "      <td>9.113952</td>\n",
       "      <td>1.150037</td>\n",
       "      <td>2.394555</td>\n",
       "      <td>1.992796</td>\n",
       "      <td>0.493045</td>\n",
       "      <td>0.141256</td>\n",
       "      <td>0.0</td>\n",
       "      <td>0.0</td>\n",
       "      <td>0.0</td>\n",
       "      <td>0.641532</td>\n",
       "      <td>70.305031</td>\n",
       "      <td>83.433790</td>\n",
       "      <td>4.022716</td>\n",
       "      <td>54.367602</td>\n",
       "      <td>0.340511</td>\n",
       "      <td>0.868102</td>\n",
       "    </tr>\n",
       "    <tr>\n",
       "      <th>min</th>\n",
       "      <td>0.000000</td>\n",
       "      <td>0.000000</td>\n",
       "      <td>2015.0</td>\n",
       "      <td>27.000000</td>\n",
       "      <td>1.000000</td>\n",
       "      <td>0.000000</td>\n",
       "      <td>0.000000</td>\n",
       "      <td>0.000000</td>\n",
       "      <td>0.000000</td>\n",
       "      <td>0.000000</td>\n",
       "      <td>0.0</td>\n",
       "      <td>0.0</td>\n",
       "      <td>0.0</td>\n",
       "      <td>0.000000</td>\n",
       "      <td>2.000000</td>\n",
       "      <td>12.000000</td>\n",
       "      <td>0.000000</td>\n",
       "      <td>0.000000</td>\n",
       "      <td>0.000000</td>\n",
       "      <td>0.000000</td>\n",
       "    </tr>\n",
       "    <tr>\n",
       "      <th>25%</th>\n",
       "      <td>0.000000</td>\n",
       "      <td>20.000000</td>\n",
       "      <td>2015.0</td>\n",
       "      <td>31.000000</td>\n",
       "      <td>7.000000</td>\n",
       "      <td>0.000000</td>\n",
       "      <td>2.000000</td>\n",
       "      <td>2.000000</td>\n",
       "      <td>0.000000</td>\n",
       "      <td>0.000000</td>\n",
       "      <td>0.0</td>\n",
       "      <td>0.0</td>\n",
       "      <td>0.0</td>\n",
       "      <td>0.000000</td>\n",
       "      <td>202.000000</td>\n",
       "      <td>115.500000</td>\n",
       "      <td>0.000000</td>\n",
       "      <td>61.350000</td>\n",
       "      <td>0.000000</td>\n",
       "      <td>0.000000</td>\n",
       "    </tr>\n",
       "    <tr>\n",
       "      <th>50%</th>\n",
       "      <td>0.000000</td>\n",
       "      <td>52.000000</td>\n",
       "      <td>2015.0</td>\n",
       "      <td>36.000000</td>\n",
       "      <td>14.000000</td>\n",
       "      <td>1.000000</td>\n",
       "      <td>3.000000</td>\n",
       "      <td>2.000000</td>\n",
       "      <td>0.000000</td>\n",
       "      <td>0.000000</td>\n",
       "      <td>0.0</td>\n",
       "      <td>0.0</td>\n",
       "      <td>0.0</td>\n",
       "      <td>0.000000</td>\n",
       "      <td>240.000000</td>\n",
       "      <td>270.000000</td>\n",
       "      <td>0.000000</td>\n",
       "      <td>100.680000</td>\n",
       "      <td>0.000000</td>\n",
       "      <td>0.000000</td>\n",
       "    </tr>\n",
       "    <tr>\n",
       "      <th>75%</th>\n",
       "      <td>1.000000</td>\n",
       "      <td>90.000000</td>\n",
       "      <td>2015.0</td>\n",
       "      <td>41.000000</td>\n",
       "      <td>23.000000</td>\n",
       "      <td>2.000000</td>\n",
       "      <td>5.000000</td>\n",
       "      <td>2.000000</td>\n",
       "      <td>0.000000</td>\n",
       "      <td>0.000000</td>\n",
       "      <td>0.0</td>\n",
       "      <td>0.0</td>\n",
       "      <td>0.0</td>\n",
       "      <td>0.000000</td>\n",
       "      <td>241.000000</td>\n",
       "      <td>281.000000</td>\n",
       "      <td>0.000000</td>\n",
       "      <td>138.850000</td>\n",
       "      <td>0.000000</td>\n",
       "      <td>1.000000</td>\n",
       "    </tr>\n",
       "    <tr>\n",
       "      <th>max</th>\n",
       "      <td>1.000000</td>\n",
       "      <td>737.000000</td>\n",
       "      <td>2015.0</td>\n",
       "      <td>46.000000</td>\n",
       "      <td>31.000000</td>\n",
       "      <td>13.000000</td>\n",
       "      <td>33.000000</td>\n",
       "      <td>55.000000</td>\n",
       "      <td>10.000000</td>\n",
       "      <td>2.000000</td>\n",
       "      <td>0.0</td>\n",
       "      <td>0.0</td>\n",
       "      <td>0.0</td>\n",
       "      <td>17.000000</td>\n",
       "      <td>334.000000</td>\n",
       "      <td>318.000000</td>\n",
       "      <td>50.000000</td>\n",
       "      <td>299.330000</td>\n",
       "      <td>2.000000</td>\n",
       "      <td>4.000000</td>\n",
       "    </tr>\n",
       "  </tbody>\n",
       "</table>\n",
       "</div>"
      ],
      "text/plain": [
       "       is_canceled    lead_time  arrival_date_year  arrival_date_week_number  \\\n",
       "count  3000.000000  3000.000000             3000.0               3000.000000   \n",
       "mean      0.354333    63.740667             2015.0                 35.939000   \n",
       "std       0.478391    61.241921                0.0                  5.616327   \n",
       "min       0.000000     0.000000             2015.0                 27.000000   \n",
       "25%       0.000000    20.000000             2015.0                 31.000000   \n",
       "50%       0.000000    52.000000             2015.0                 36.000000   \n",
       "75%       1.000000    90.000000             2015.0                 41.000000   \n",
       "max       1.000000   737.000000             2015.0                 46.000000   \n",
       "\n",
       "       arrival_date_day_of_month  stays_in_weekend_nights  \\\n",
       "count                3000.000000              3000.000000   \n",
       "mean                   15.072333                 1.316000   \n",
       "std                     9.113952                 1.150037   \n",
       "min                     1.000000                 0.000000   \n",
       "25%                     7.000000                 0.000000   \n",
       "50%                    14.000000                 1.000000   \n",
       "75%                    23.000000                 2.000000   \n",
       "max                    31.000000                13.000000   \n",
       "\n",
       "       stays_in_week_nights       adults     children       babies  \\\n",
       "count           3000.000000  3000.000000  3000.000000  3000.000000   \n",
       "mean               3.496000     2.033000     0.139000     0.019667   \n",
       "std                2.394555     1.992796     0.493045     0.141256   \n",
       "min                0.000000     0.000000     0.000000     0.000000   \n",
       "25%                2.000000     2.000000     0.000000     0.000000   \n",
       "50%                3.000000     2.000000     0.000000     0.000000   \n",
       "75%                5.000000     2.000000     0.000000     0.000000   \n",
       "max               33.000000    55.000000    10.000000     2.000000   \n",
       "\n",
       "       is_repeated_guest  previous_cancellations  \\\n",
       "count             3000.0                  3000.0   \n",
       "mean                 0.0                     0.0   \n",
       "std                  0.0                     0.0   \n",
       "min                  0.0                     0.0   \n",
       "25%                  0.0                     0.0   \n",
       "50%                  0.0                     0.0   \n",
       "75%                  0.0                     0.0   \n",
       "max                  0.0                     0.0   \n",
       "\n",
       "       previous_bookings_not_canceled  booking_changes        agent  \\\n",
       "count                          3000.0      3000.000000  2535.000000   \n",
       "mean                              0.0         0.210333   209.945562   \n",
       "std                               0.0         0.641532    70.305031   \n",
       "min                               0.0         0.000000     2.000000   \n",
       "25%                               0.0         0.000000   202.000000   \n",
       "50%                               0.0         0.000000   240.000000   \n",
       "75%                               0.0         0.000000   241.000000   \n",
       "max                               0.0        17.000000   334.000000   \n",
       "\n",
       "          company  days_in_waiting_list          adr  \\\n",
       "count  123.000000           3000.000000  3000.000000   \n",
       "mean   221.178862              0.345667   105.005467   \n",
       "std     83.433790              4.022716    54.367602   \n",
       "min     12.000000              0.000000     0.000000   \n",
       "25%    115.500000              0.000000    61.350000   \n",
       "50%    270.000000              0.000000   100.680000   \n",
       "75%    281.000000              0.000000   138.850000   \n",
       "max    318.000000             50.000000   299.330000   \n",
       "\n",
       "       required_car_parking_spaces  total_of_special_requests  \n",
       "count                  3000.000000                3000.000000  \n",
       "mean                      0.132000                   0.728000  \n",
       "std                       0.340511                   0.868102  \n",
       "min                       0.000000                   0.000000  \n",
       "25%                       0.000000                   0.000000  \n",
       "50%                       0.000000                   0.000000  \n",
       "75%                       0.000000                   1.000000  \n",
       "max                       2.000000                   4.000000  "
      ]
     },
     "execution_count": 43,
     "metadata": {},
     "output_type": "execute_result"
    }
   ],
   "source": [
    "df.describe()"
   ]
  },
  {
   "cell_type": "code",
   "execution_count": 44,
   "metadata": {
    "ExecuteTime": {
     "end_time": "2020-06-12T07:41:40.773429Z",
     "start_time": "2020-06-12T07:41:40.601535Z"
    }
   },
   "outputs": [
    {
     "data": {
      "text/html": [
       "<div>\n",
       "<style scoped>\n",
       "    .dataframe tbody tr th:only-of-type {\n",
       "        vertical-align: middle;\n",
       "    }\n",
       "\n",
       "    .dataframe tbody tr th {\n",
       "        vertical-align: top;\n",
       "    }\n",
       "\n",
       "    .dataframe thead th {\n",
       "        text-align: right;\n",
       "    }\n",
       "</style>\n",
       "<table border=\"1\" class=\"dataframe\">\n",
       "  <thead>\n",
       "    <tr style=\"text-align: right;\">\n",
       "      <th></th>\n",
       "      <th>hotel</th>\n",
       "      <th>arrival_date_month</th>\n",
       "      <th>meal</th>\n",
       "      <th>country</th>\n",
       "      <th>market_segment</th>\n",
       "      <th>distribution_channel</th>\n",
       "      <th>reserved_room_type</th>\n",
       "      <th>assigned_room_type</th>\n",
       "      <th>deposit_type</th>\n",
       "      <th>customer_type</th>\n",
       "      <th>reservation_status</th>\n",
       "      <th>reservation_status_date</th>\n",
       "    </tr>\n",
       "  </thead>\n",
       "  <tbody>\n",
       "    <tr>\n",
       "      <th>count</th>\n",
       "      <td>3000</td>\n",
       "      <td>3000</td>\n",
       "      <td>3000</td>\n",
       "      <td>2999</td>\n",
       "      <td>3000</td>\n",
       "      <td>3000</td>\n",
       "      <td>3000</td>\n",
       "      <td>3000</td>\n",
       "      <td>3000</td>\n",
       "      <td>3000</td>\n",
       "      <td>3000</td>\n",
       "      <td>3000</td>\n",
       "    </tr>\n",
       "    <tr>\n",
       "      <th>unique</th>\n",
       "      <td>1</td>\n",
       "      <td>5</td>\n",
       "      <td>4</td>\n",
       "      <td>53</td>\n",
       "      <td>6</td>\n",
       "      <td>3</td>\n",
       "      <td>8</td>\n",
       "      <td>9</td>\n",
       "      <td>3</td>\n",
       "      <td>4</td>\n",
       "      <td>3</td>\n",
       "      <td>215</td>\n",
       "    </tr>\n",
       "    <tr>\n",
       "      <th>top</th>\n",
       "      <td>Resort Hotel</td>\n",
       "      <td>July</td>\n",
       "      <td>BB</td>\n",
       "      <td>PRT</td>\n",
       "      <td>Online TA</td>\n",
       "      <td>TA/TO</td>\n",
       "      <td>A</td>\n",
       "      <td>A</td>\n",
       "      <td>No Deposit</td>\n",
       "      <td>Transient</td>\n",
       "      <td>Check-Out</td>\n",
       "      <td>2015-07-17</td>\n",
       "    </tr>\n",
       "    <tr>\n",
       "      <th>freq</th>\n",
       "      <td>3000</td>\n",
       "      <td>842</td>\n",
       "      <td>2333</td>\n",
       "      <td>1775</td>\n",
       "      <td>1478</td>\n",
       "      <td>2188</td>\n",
       "      <td>1678</td>\n",
       "      <td>1301</td>\n",
       "      <td>2878</td>\n",
       "      <td>2465</td>\n",
       "      <td>1937</td>\n",
       "      <td>68</td>\n",
       "    </tr>\n",
       "  </tbody>\n",
       "</table>\n",
       "</div>"
      ],
      "text/plain": [
       "               hotel arrival_date_month  meal country market_segment  \\\n",
       "count           3000               3000  3000    2999           3000   \n",
       "unique             1                  5     4      53              6   \n",
       "top     Resort Hotel               July    BB     PRT      Online TA   \n",
       "freq            3000                842  2333    1775           1478   \n",
       "\n",
       "       distribution_channel reserved_room_type assigned_room_type  \\\n",
       "count                  3000               3000               3000   \n",
       "unique                    3                  8                  9   \n",
       "top                   TA/TO                  A                  A   \n",
       "freq                   2188               1678               1301   \n",
       "\n",
       "       deposit_type customer_type reservation_status reservation_status_date  \n",
       "count          3000          3000               3000                    3000  \n",
       "unique            3             4                  3                     215  \n",
       "top      No Deposit     Transient          Check-Out              2015-07-17  \n",
       "freq           2878          2465               1937                      68  "
      ]
     },
     "execution_count": 44,
     "metadata": {},
     "output_type": "execute_result"
    }
   ],
   "source": [
    "df.describe(exclude='number')"
   ]
  },
  {
   "cell_type": "code",
   "execution_count": 45,
   "metadata": {
    "ExecuteTime": {
     "end_time": "2020-06-12T07:41:40.920444Z",
     "start_time": "2020-06-12T07:41:40.775428Z"
    }
   },
   "outputs": [
    {
     "data": {
      "text/html": [
       "<div>\n",
       "<style scoped>\n",
       "    .dataframe tbody tr th:only-of-type {\n",
       "        vertical-align: middle;\n",
       "    }\n",
       "\n",
       "    .dataframe tbody tr th {\n",
       "        vertical-align: top;\n",
       "    }\n",
       "\n",
       "    .dataframe thead th {\n",
       "        text-align: right;\n",
       "    }\n",
       "</style>\n",
       "<table border=\"1\" class=\"dataframe\">\n",
       "  <thead>\n",
       "    <tr style=\"text-align: right;\">\n",
       "      <th></th>\n",
       "      <th>dataFeatures</th>\n",
       "      <th>dataType</th>\n",
       "      <th>null</th>\n",
       "      <th>null_pct</th>\n",
       "      <th>unique</th>\n",
       "      <th>unique_pct</th>\n",
       "    </tr>\n",
       "  </thead>\n",
       "  <tbody>\n",
       "    <tr>\n",
       "      <th>0</th>\n",
       "      <td>hotel</td>\n",
       "      <td>object</td>\n",
       "      <td>0</td>\n",
       "      <td>0.00</td>\n",
       "      <td>1</td>\n",
       "      <td>0.03</td>\n",
       "    </tr>\n",
       "    <tr>\n",
       "      <th>1</th>\n",
       "      <td>is_canceled</td>\n",
       "      <td>int64</td>\n",
       "      <td>0</td>\n",
       "      <td>0.00</td>\n",
       "      <td>2</td>\n",
       "      <td>0.07</td>\n",
       "    </tr>\n",
       "    <tr>\n",
       "      <th>2</th>\n",
       "      <td>lead_time</td>\n",
       "      <td>int64</td>\n",
       "      <td>0</td>\n",
       "      <td>0.00</td>\n",
       "      <td>229</td>\n",
       "      <td>7.63</td>\n",
       "    </tr>\n",
       "    <tr>\n",
       "      <th>3</th>\n",
       "      <td>arrival_date_year</td>\n",
       "      <td>int64</td>\n",
       "      <td>0</td>\n",
       "      <td>0.00</td>\n",
       "      <td>1</td>\n",
       "      <td>0.03</td>\n",
       "    </tr>\n",
       "    <tr>\n",
       "      <th>4</th>\n",
       "      <td>arrival_date_month</td>\n",
       "      <td>object</td>\n",
       "      <td>0</td>\n",
       "      <td>0.00</td>\n",
       "      <td>5</td>\n",
       "      <td>0.17</td>\n",
       "    </tr>\n",
       "    <tr>\n",
       "      <th>5</th>\n",
       "      <td>arrival_date_week_number</td>\n",
       "      <td>int64</td>\n",
       "      <td>0</td>\n",
       "      <td>0.00</td>\n",
       "      <td>20</td>\n",
       "      <td>0.67</td>\n",
       "    </tr>\n",
       "    <tr>\n",
       "      <th>6</th>\n",
       "      <td>arrival_date_day_of_month</td>\n",
       "      <td>int64</td>\n",
       "      <td>0</td>\n",
       "      <td>0.00</td>\n",
       "      <td>31</td>\n",
       "      <td>1.03</td>\n",
       "    </tr>\n",
       "    <tr>\n",
       "      <th>7</th>\n",
       "      <td>stays_in_weekend_nights</td>\n",
       "      <td>int64</td>\n",
       "      <td>0</td>\n",
       "      <td>0.00</td>\n",
       "      <td>10</td>\n",
       "      <td>0.33</td>\n",
       "    </tr>\n",
       "    <tr>\n",
       "      <th>8</th>\n",
       "      <td>stays_in_week_nights</td>\n",
       "      <td>int64</td>\n",
       "      <td>0</td>\n",
       "      <td>0.00</td>\n",
       "      <td>18</td>\n",
       "      <td>0.60</td>\n",
       "    </tr>\n",
       "    <tr>\n",
       "      <th>9</th>\n",
       "      <td>adults</td>\n",
       "      <td>int64</td>\n",
       "      <td>0</td>\n",
       "      <td>0.00</td>\n",
       "      <td>14</td>\n",
       "      <td>0.47</td>\n",
       "    </tr>\n",
       "    <tr>\n",
       "      <th>10</th>\n",
       "      <td>children</td>\n",
       "      <td>float64</td>\n",
       "      <td>0</td>\n",
       "      <td>0.00</td>\n",
       "      <td>4</td>\n",
       "      <td>0.13</td>\n",
       "    </tr>\n",
       "    <tr>\n",
       "      <th>11</th>\n",
       "      <td>babies</td>\n",
       "      <td>int64</td>\n",
       "      <td>0</td>\n",
       "      <td>0.00</td>\n",
       "      <td>3</td>\n",
       "      <td>0.10</td>\n",
       "    </tr>\n",
       "    <tr>\n",
       "      <th>12</th>\n",
       "      <td>meal</td>\n",
       "      <td>object</td>\n",
       "      <td>0</td>\n",
       "      <td>0.00</td>\n",
       "      <td>4</td>\n",
       "      <td>0.13</td>\n",
       "    </tr>\n",
       "    <tr>\n",
       "      <th>13</th>\n",
       "      <td>country</td>\n",
       "      <td>object</td>\n",
       "      <td>1</td>\n",
       "      <td>0.03</td>\n",
       "      <td>53</td>\n",
       "      <td>1.77</td>\n",
       "    </tr>\n",
       "    <tr>\n",
       "      <th>14</th>\n",
       "      <td>market_segment</td>\n",
       "      <td>object</td>\n",
       "      <td>0</td>\n",
       "      <td>0.00</td>\n",
       "      <td>6</td>\n",
       "      <td>0.20</td>\n",
       "    </tr>\n",
       "    <tr>\n",
       "      <th>15</th>\n",
       "      <td>distribution_channel</td>\n",
       "      <td>object</td>\n",
       "      <td>0</td>\n",
       "      <td>0.00</td>\n",
       "      <td>3</td>\n",
       "      <td>0.10</td>\n",
       "    </tr>\n",
       "    <tr>\n",
       "      <th>16</th>\n",
       "      <td>is_repeated_guest</td>\n",
       "      <td>int64</td>\n",
       "      <td>0</td>\n",
       "      <td>0.00</td>\n",
       "      <td>1</td>\n",
       "      <td>0.03</td>\n",
       "    </tr>\n",
       "    <tr>\n",
       "      <th>17</th>\n",
       "      <td>previous_cancellations</td>\n",
       "      <td>int64</td>\n",
       "      <td>0</td>\n",
       "      <td>0.00</td>\n",
       "      <td>1</td>\n",
       "      <td>0.03</td>\n",
       "    </tr>\n",
       "    <tr>\n",
       "      <th>18</th>\n",
       "      <td>previous_bookings_not_canceled</td>\n",
       "      <td>int64</td>\n",
       "      <td>0</td>\n",
       "      <td>0.00</td>\n",
       "      <td>1</td>\n",
       "      <td>0.03</td>\n",
       "    </tr>\n",
       "    <tr>\n",
       "      <th>19</th>\n",
       "      <td>reserved_room_type</td>\n",
       "      <td>object</td>\n",
       "      <td>0</td>\n",
       "      <td>0.00</td>\n",
       "      <td>8</td>\n",
       "      <td>0.27</td>\n",
       "    </tr>\n",
       "    <tr>\n",
       "      <th>20</th>\n",
       "      <td>assigned_room_type</td>\n",
       "      <td>object</td>\n",
       "      <td>0</td>\n",
       "      <td>0.00</td>\n",
       "      <td>9</td>\n",
       "      <td>0.30</td>\n",
       "    </tr>\n",
       "    <tr>\n",
       "      <th>21</th>\n",
       "      <td>booking_changes</td>\n",
       "      <td>int64</td>\n",
       "      <td>0</td>\n",
       "      <td>0.00</td>\n",
       "      <td>8</td>\n",
       "      <td>0.27</td>\n",
       "    </tr>\n",
       "    <tr>\n",
       "      <th>22</th>\n",
       "      <td>deposit_type</td>\n",
       "      <td>object</td>\n",
       "      <td>0</td>\n",
       "      <td>0.00</td>\n",
       "      <td>3</td>\n",
       "      <td>0.10</td>\n",
       "    </tr>\n",
       "    <tr>\n",
       "      <th>23</th>\n",
       "      <td>agent</td>\n",
       "      <td>float64</td>\n",
       "      <td>465</td>\n",
       "      <td>15.50</td>\n",
       "      <td>66</td>\n",
       "      <td>2.20</td>\n",
       "    </tr>\n",
       "    <tr>\n",
       "      <th>24</th>\n",
       "      <td>company</td>\n",
       "      <td>float64</td>\n",
       "      <td>2877</td>\n",
       "      <td>95.90</td>\n",
       "      <td>25</td>\n",
       "      <td>0.83</td>\n",
       "    </tr>\n",
       "    <tr>\n",
       "      <th>25</th>\n",
       "      <td>days_in_waiting_list</td>\n",
       "      <td>int64</td>\n",
       "      <td>0</td>\n",
       "      <td>0.00</td>\n",
       "      <td>3</td>\n",
       "      <td>0.10</td>\n",
       "    </tr>\n",
       "    <tr>\n",
       "      <th>26</th>\n",
       "      <td>customer_type</td>\n",
       "      <td>object</td>\n",
       "      <td>0</td>\n",
       "      <td>0.00</td>\n",
       "      <td>4</td>\n",
       "      <td>0.13</td>\n",
       "    </tr>\n",
       "    <tr>\n",
       "      <th>27</th>\n",
       "      <td>adr</td>\n",
       "      <td>float64</td>\n",
       "      <td>0</td>\n",
       "      <td>0.00</td>\n",
       "      <td>1048</td>\n",
       "      <td>34.93</td>\n",
       "    </tr>\n",
       "    <tr>\n",
       "      <th>28</th>\n",
       "      <td>required_car_parking_spaces</td>\n",
       "      <td>int64</td>\n",
       "      <td>0</td>\n",
       "      <td>0.00</td>\n",
       "      <td>3</td>\n",
       "      <td>0.10</td>\n",
       "    </tr>\n",
       "    <tr>\n",
       "      <th>29</th>\n",
       "      <td>total_of_special_requests</td>\n",
       "      <td>int64</td>\n",
       "      <td>0</td>\n",
       "      <td>0.00</td>\n",
       "      <td>5</td>\n",
       "      <td>0.17</td>\n",
       "    </tr>\n",
       "    <tr>\n",
       "      <th>30</th>\n",
       "      <td>reservation_status</td>\n",
       "      <td>object</td>\n",
       "      <td>0</td>\n",
       "      <td>0.00</td>\n",
       "      <td>3</td>\n",
       "      <td>0.10</td>\n",
       "    </tr>\n",
       "    <tr>\n",
       "      <th>31</th>\n",
       "      <td>reservation_status_date</td>\n",
       "      <td>object</td>\n",
       "      <td>0</td>\n",
       "      <td>0.00</td>\n",
       "      <td>215</td>\n",
       "      <td>7.17</td>\n",
       "    </tr>\n",
       "  </tbody>\n",
       "</table>\n",
       "</div>"
      ],
      "text/plain": [
       "                      dataFeatures dataType  null  null_pct  unique  \\\n",
       "0                            hotel   object     0      0.00       1   \n",
       "1                      is_canceled    int64     0      0.00       2   \n",
       "2                        lead_time    int64     0      0.00     229   \n",
       "3                arrival_date_year    int64     0      0.00       1   \n",
       "4               arrival_date_month   object     0      0.00       5   \n",
       "5         arrival_date_week_number    int64     0      0.00      20   \n",
       "6        arrival_date_day_of_month    int64     0      0.00      31   \n",
       "7          stays_in_weekend_nights    int64     0      0.00      10   \n",
       "8             stays_in_week_nights    int64     0      0.00      18   \n",
       "9                           adults    int64     0      0.00      14   \n",
       "10                        children  float64     0      0.00       4   \n",
       "11                          babies    int64     0      0.00       3   \n",
       "12                            meal   object     0      0.00       4   \n",
       "13                         country   object     1      0.03      53   \n",
       "14                  market_segment   object     0      0.00       6   \n",
       "15            distribution_channel   object     0      0.00       3   \n",
       "16               is_repeated_guest    int64     0      0.00       1   \n",
       "17          previous_cancellations    int64     0      0.00       1   \n",
       "18  previous_bookings_not_canceled    int64     0      0.00       1   \n",
       "19              reserved_room_type   object     0      0.00       8   \n",
       "20              assigned_room_type   object     0      0.00       9   \n",
       "21                 booking_changes    int64     0      0.00       8   \n",
       "22                    deposit_type   object     0      0.00       3   \n",
       "23                           agent  float64   465     15.50      66   \n",
       "24                         company  float64  2877     95.90      25   \n",
       "25            days_in_waiting_list    int64     0      0.00       3   \n",
       "26                   customer_type   object     0      0.00       4   \n",
       "27                             adr  float64     0      0.00    1048   \n",
       "28     required_car_parking_spaces    int64     0      0.00       3   \n",
       "29       total_of_special_requests    int64     0      0.00       5   \n",
       "30              reservation_status   object     0      0.00       3   \n",
       "31         reservation_status_date   object     0      0.00     215   \n",
       "\n",
       "    unique_pct  \n",
       "0         0.03  \n",
       "1         0.07  \n",
       "2         7.63  \n",
       "3         0.03  \n",
       "4         0.17  \n",
       "5         0.67  \n",
       "6         1.03  \n",
       "7         0.33  \n",
       "8         0.60  \n",
       "9         0.47  \n",
       "10        0.13  \n",
       "11        0.10  \n",
       "12        0.13  \n",
       "13        1.77  \n",
       "14        0.20  \n",
       "15        0.10  \n",
       "16        0.03  \n",
       "17        0.03  \n",
       "18        0.03  \n",
       "19        0.27  \n",
       "20        0.30  \n",
       "21        0.27  \n",
       "22        0.10  \n",
       "23        2.20  \n",
       "24        0.83  \n",
       "25        0.10  \n",
       "26        0.13  \n",
       "27       34.93  \n",
       "28        0.10  \n",
       "29        0.17  \n",
       "30        0.10  \n",
       "31        7.17  "
      ]
     },
     "execution_count": 45,
     "metadata": {},
     "output_type": "execute_result"
    }
   ],
   "source": [
    "def summary_table(df):\n",
    "    summary = pd.DataFrame(dict(dataFeatures = df.columns,\n",
    "                                  dataType = df.dtypes,\n",
    "                                  null = df.isna().sum(),\n",
    "                                  null_pct = round(df.isna().sum() / len(df) *100,2),\n",
    "                                  unique = df.nunique(),\n",
    "#                                   uniqueSample = [list(df[i].drop_duplicates().sample(2)) for i in df.columns]\n",
    "                               )\n",
    "                           ).reset_index(drop=True)\n",
    "    summary['unique_pct'] = round(summary['unique'] / len(df) *100,2)\n",
    "    return summary\n",
    "\n",
    "summary_table(df)"
   ]
  },
  {
   "cell_type": "markdown",
   "metadata": {},
   "source": [
    "## Cleaning & Preprocessing"
   ]
  },
  {
   "cell_type": "markdown",
   "metadata": {},
   "source": [
    "### Null Val"
   ]
  },
  {
   "cell_type": "code",
   "execution_count": 46,
   "metadata": {
    "ExecuteTime": {
     "end_time": "2020-06-12T07:41:41.000394Z",
     "start_time": "2020-06-12T07:41:40.922443Z"
    }
   },
   "outputs": [
    {
     "data": {
      "text/plain": [
       "hotel                                0\n",
       "is_canceled                          0\n",
       "lead_time                            0\n",
       "arrival_date_year                    0\n",
       "arrival_date_month                   0\n",
       "arrival_date_week_number             0\n",
       "arrival_date_day_of_month            0\n",
       "stays_in_weekend_nights              0\n",
       "stays_in_week_nights                 0\n",
       "adults                               0\n",
       "children                             0\n",
       "babies                               0\n",
       "meal                                 0\n",
       "country                              1\n",
       "market_segment                       0\n",
       "distribution_channel                 0\n",
       "is_repeated_guest                    0\n",
       "previous_cancellations               0\n",
       "previous_bookings_not_canceled       0\n",
       "reserved_room_type                   0\n",
       "assigned_room_type                   0\n",
       "booking_changes                      0\n",
       "deposit_type                         0\n",
       "agent                              465\n",
       "company                           2877\n",
       "days_in_waiting_list                 0\n",
       "customer_type                        0\n",
       "adr                                  0\n",
       "required_car_parking_spaces          0\n",
       "total_of_special_requests            0\n",
       "reservation_status                   0\n",
       "reservation_status_date              0\n",
       "dtype: int64"
      ]
     },
     "execution_count": 46,
     "metadata": {},
     "output_type": "execute_result"
    }
   ],
   "source": [
    "df.isna().sum()"
   ]
  },
  {
   "cell_type": "code",
   "execution_count": 47,
   "metadata": {
    "ExecuteTime": {
     "end_time": "2020-06-12T07:41:41.124384Z",
     "start_time": "2020-06-12T07:41:41.001393Z"
    }
   },
   "outputs": [
    {
     "data": {
      "text/plain": [
       "country       1\n",
       "agent       465\n",
       "company    2877\n",
       "dtype: int64"
      ]
     },
     "execution_count": 47,
     "metadata": {},
     "output_type": "execute_result"
    }
   ],
   "source": [
    "df.isna().sum()[df.isna().sum() > 0]"
   ]
  },
  {
   "cell_type": "markdown",
   "metadata": {},
   "source": [
    "#### Impute Country with Top Value"
   ]
  },
  {
   "cell_type": "code",
   "execution_count": 48,
   "metadata": {
    "ExecuteTime": {
     "end_time": "2020-06-12T07:41:41.258320Z",
     "start_time": "2020-06-12T07:41:41.125385Z"
    }
   },
   "outputs": [
    {
     "data": {
      "text/plain": [
       "count     2999\n",
       "unique      53\n",
       "top        PRT\n",
       "freq      1775\n",
       "Name: country, dtype: object"
      ]
     },
     "execution_count": 48,
     "metadata": {},
     "output_type": "execute_result"
    }
   ],
   "source": [
    "df['country'].describe()"
   ]
  },
  {
   "cell_type": "code",
   "execution_count": 49,
   "metadata": {
    "ExecuteTime": {
     "end_time": "2020-06-12T07:41:41.416095Z",
     "start_time": "2020-06-12T07:41:41.259319Z"
    }
   },
   "outputs": [
    {
     "data": {
      "text/html": [
       "<div>\n",
       "<style scoped>\n",
       "    .dataframe tbody tr th:only-of-type {\n",
       "        vertical-align: middle;\n",
       "    }\n",
       "\n",
       "    .dataframe tbody tr th {\n",
       "        vertical-align: top;\n",
       "    }\n",
       "\n",
       "    .dataframe thead th {\n",
       "        text-align: right;\n",
       "    }\n",
       "</style>\n",
       "<table border=\"1\" class=\"dataframe\">\n",
       "  <thead>\n",
       "    <tr style=\"text-align: right;\">\n",
       "      <th></th>\n",
       "      <th>hotel</th>\n",
       "      <th>is_canceled</th>\n",
       "      <th>lead_time</th>\n",
       "      <th>arrival_date_year</th>\n",
       "      <th>arrival_date_month</th>\n",
       "      <th>arrival_date_week_number</th>\n",
       "      <th>arrival_date_day_of_month</th>\n",
       "      <th>stays_in_weekend_nights</th>\n",
       "      <th>stays_in_week_nights</th>\n",
       "      <th>adults</th>\n",
       "      <th>...</th>\n",
       "      <th>deposit_type</th>\n",
       "      <th>agent</th>\n",
       "      <th>company</th>\n",
       "      <th>days_in_waiting_list</th>\n",
       "      <th>customer_type</th>\n",
       "      <th>adr</th>\n",
       "      <th>required_car_parking_spaces</th>\n",
       "      <th>total_of_special_requests</th>\n",
       "      <th>reservation_status</th>\n",
       "      <th>reservation_status_date</th>\n",
       "    </tr>\n",
       "  </thead>\n",
       "  <tbody>\n",
       "    <tr>\n",
       "      <th>30</th>\n",
       "      <td>Resort Hotel</td>\n",
       "      <td>0</td>\n",
       "      <td>118</td>\n",
       "      <td>2015</td>\n",
       "      <td>July</td>\n",
       "      <td>27</td>\n",
       "      <td>1</td>\n",
       "      <td>4</td>\n",
       "      <td>10</td>\n",
       "      <td>1</td>\n",
       "      <td>...</td>\n",
       "      <td>No Deposit</td>\n",
       "      <td>NaN</td>\n",
       "      <td>NaN</td>\n",
       "      <td>0</td>\n",
       "      <td>Transient</td>\n",
       "      <td>62.0</td>\n",
       "      <td>0</td>\n",
       "      <td>2</td>\n",
       "      <td>Check-Out</td>\n",
       "      <td>2015-07-15</td>\n",
       "    </tr>\n",
       "  </tbody>\n",
       "</table>\n",
       "<p>1 rows × 32 columns</p>\n",
       "</div>"
      ],
      "text/plain": [
       "           hotel  is_canceled  lead_time  arrival_date_year  \\\n",
       "30  Resort Hotel            0        118               2015   \n",
       "\n",
       "   arrival_date_month  arrival_date_week_number  arrival_date_day_of_month  \\\n",
       "30               July                        27                          1   \n",
       "\n",
       "    stays_in_weekend_nights  stays_in_week_nights  adults  ...  deposit_type  \\\n",
       "30                        4                    10       1  ...    No Deposit   \n",
       "\n",
       "    agent company days_in_waiting_list customer_type   adr  \\\n",
       "30    NaN     NaN                    0     Transient  62.0   \n",
       "\n",
       "    required_car_parking_spaces  total_of_special_requests  \\\n",
       "30                            0                          2   \n",
       "\n",
       "    reservation_status reservation_status_date  \n",
       "30           Check-Out              2015-07-15  \n",
       "\n",
       "[1 rows x 32 columns]"
      ]
     },
     "execution_count": 49,
     "metadata": {},
     "output_type": "execute_result"
    }
   ],
   "source": [
    "df[df['country'].isna()]"
   ]
  },
  {
   "cell_type": "code",
   "execution_count": 50,
   "metadata": {
    "ExecuteTime": {
     "end_time": "2020-06-12T07:41:41.584135Z",
     "start_time": "2020-06-12T07:41:41.418089Z"
    }
   },
   "outputs": [],
   "source": [
    "# isi dengan frekuensi terbanyak\n",
    "# hanya 1 row saja yang kosong\n",
    "\n",
    "df['country'] = df['country'].fillna(value='PRT')"
   ]
  },
  {
   "cell_type": "markdown",
   "metadata": {},
   "source": [
    "#### Drop Agent"
   ]
  },
  {
   "cell_type": "code",
   "execution_count": 51,
   "metadata": {
    "ExecuteTime": {
     "end_time": "2020-06-12T07:41:41.678086Z",
     "start_time": "2020-06-12T07:41:41.588126Z"
    }
   },
   "outputs": [
    {
     "data": {
      "text/plain": [
       "is_canceled                       1.000000\n",
       "required_car_parking_spaces       0.287221\n",
       "company                           0.210258\n",
       "lead_time                         0.209572\n",
       "booking_changes                   0.128840\n",
       "adr                               0.096483\n",
       "adults                            0.075522\n",
       "days_in_waiting_list              0.063667\n",
       "total_of_special_requests         0.059307\n",
       "arrival_date_day_of_month         0.051248\n",
       "stays_in_week_nights              0.045046\n",
       "children                          0.035686\n",
       "agent                             0.027248\n",
       "stays_in_weekend_nights           0.020056\n",
       "babies                            0.014338\n",
       "arrival_date_week_number          0.010033\n",
       "arrival_date_year                      NaN\n",
       "is_repeated_guest                      NaN\n",
       "previous_cancellations                 NaN\n",
       "previous_bookings_not_canceled         NaN\n",
       "Name: is_canceled, dtype: float64"
      ]
     },
     "execution_count": 51,
     "metadata": {},
     "output_type": "execute_result"
    }
   ],
   "source": [
    "df.corr()['is_canceled'].abs().sort_values(ascending=False)"
   ]
  },
  {
   "cell_type": "code",
   "execution_count": 52,
   "metadata": {
    "ExecuteTime": {
     "end_time": "2020-06-12T07:41:41.790178Z",
     "start_time": "2020-06-12T07:41:41.679086Z"
    }
   },
   "outputs": [
    {
     "data": {
      "text/plain": [
       "array([ nan, 304., 240., 303.,  15., 241.,   8., 250., 115.,   5., 175.,\n",
       "       134., 156., 243., 242.,   3., 105.,  40., 147., 306., 184.,  96.,\n",
       "         2., 127.,  95., 146.,   9., 177.,   6., 143., 244., 149., 167.,\n",
       "       300., 171., 305.,  67., 196., 152., 142., 261., 104.,  36.,  26.,\n",
       "        29., 258., 110.,  71., 181.,  88., 251., 275.,  69., 248., 208.,\n",
       "       256., 314., 126., 281., 273., 253., 185., 330., 334., 328., 326.,\n",
       "       321.])"
      ]
     },
     "execution_count": 52,
     "metadata": {},
     "output_type": "execute_result"
    }
   ],
   "source": [
    "df['agent'].unique()"
   ]
  },
  {
   "cell_type": "code",
   "execution_count": 53,
   "metadata": {
    "ExecuteTime": {
     "end_time": "2020-06-12T07:41:42.000085Z",
     "start_time": "2020-06-12T07:41:41.794175Z"
    }
   },
   "outputs": [
    {
     "data": {
      "text/html": [
       "<div>\n",
       "<style scoped>\n",
       "    .dataframe tbody tr th:only-of-type {\n",
       "        vertical-align: middle;\n",
       "    }\n",
       "\n",
       "    .dataframe tbody tr th {\n",
       "        vertical-align: top;\n",
       "    }\n",
       "\n",
       "    .dataframe thead th {\n",
       "        text-align: right;\n",
       "    }\n",
       "</style>\n",
       "<table border=\"1\" class=\"dataframe\">\n",
       "  <thead>\n",
       "    <tr style=\"text-align: right;\">\n",
       "      <th>agent</th>\n",
       "      <th>2.0</th>\n",
       "      <th>3.0</th>\n",
       "      <th>5.0</th>\n",
       "      <th>6.0</th>\n",
       "      <th>8.0</th>\n",
       "      <th>9.0</th>\n",
       "      <th>15.0</th>\n",
       "      <th>26.0</th>\n",
       "      <th>29.0</th>\n",
       "      <th>36.0</th>\n",
       "      <th>...</th>\n",
       "      <th>304.0</th>\n",
       "      <th>305.0</th>\n",
       "      <th>306.0</th>\n",
       "      <th>314.0</th>\n",
       "      <th>321.0</th>\n",
       "      <th>326.0</th>\n",
       "      <th>328.0</th>\n",
       "      <th>330.0</th>\n",
       "      <th>334.0</th>\n",
       "      <th>All</th>\n",
       "    </tr>\n",
       "    <tr>\n",
       "      <th>distribution_channel</th>\n",
       "      <th></th>\n",
       "      <th></th>\n",
       "      <th></th>\n",
       "      <th></th>\n",
       "      <th></th>\n",
       "      <th></th>\n",
       "      <th></th>\n",
       "      <th></th>\n",
       "      <th></th>\n",
       "      <th></th>\n",
       "      <th></th>\n",
       "      <th></th>\n",
       "      <th></th>\n",
       "      <th></th>\n",
       "      <th></th>\n",
       "      <th></th>\n",
       "      <th></th>\n",
       "      <th></th>\n",
       "      <th></th>\n",
       "      <th></th>\n",
       "      <th></th>\n",
       "    </tr>\n",
       "  </thead>\n",
       "  <tbody>\n",
       "    <tr>\n",
       "      <th>Corporate</th>\n",
       "      <td>0</td>\n",
       "      <td>0</td>\n",
       "      <td>0</td>\n",
       "      <td>0</td>\n",
       "      <td>0</td>\n",
       "      <td>0</td>\n",
       "      <td>0</td>\n",
       "      <td>0</td>\n",
       "      <td>0</td>\n",
       "      <td>0</td>\n",
       "      <td>...</td>\n",
       "      <td>1</td>\n",
       "      <td>0</td>\n",
       "      <td>0</td>\n",
       "      <td>0</td>\n",
       "      <td>0</td>\n",
       "      <td>4</td>\n",
       "      <td>3</td>\n",
       "      <td>0</td>\n",
       "      <td>8</td>\n",
       "      <td>80</td>\n",
       "    </tr>\n",
       "    <tr>\n",
       "      <th>Direct</th>\n",
       "      <td>1</td>\n",
       "      <td>0</td>\n",
       "      <td>0</td>\n",
       "      <td>0</td>\n",
       "      <td>0</td>\n",
       "      <td>1</td>\n",
       "      <td>0</td>\n",
       "      <td>0</td>\n",
       "      <td>0</td>\n",
       "      <td>0</td>\n",
       "      <td>...</td>\n",
       "      <td>0</td>\n",
       "      <td>20</td>\n",
       "      <td>0</td>\n",
       "      <td>0</td>\n",
       "      <td>0</td>\n",
       "      <td>0</td>\n",
       "      <td>0</td>\n",
       "      <td>0</td>\n",
       "      <td>1</td>\n",
       "      <td>275</td>\n",
       "    </tr>\n",
       "    <tr>\n",
       "      <th>TA/TO</th>\n",
       "      <td>12</td>\n",
       "      <td>1</td>\n",
       "      <td>34</td>\n",
       "      <td>21</td>\n",
       "      <td>33</td>\n",
       "      <td>0</td>\n",
       "      <td>27</td>\n",
       "      <td>6</td>\n",
       "      <td>2</td>\n",
       "      <td>10</td>\n",
       "      <td>...</td>\n",
       "      <td>0</td>\n",
       "      <td>0</td>\n",
       "      <td>2</td>\n",
       "      <td>25</td>\n",
       "      <td>1</td>\n",
       "      <td>0</td>\n",
       "      <td>0</td>\n",
       "      <td>3</td>\n",
       "      <td>0</td>\n",
       "      <td>2180</td>\n",
       "    </tr>\n",
       "    <tr>\n",
       "      <th>All</th>\n",
       "      <td>13</td>\n",
       "      <td>1</td>\n",
       "      <td>34</td>\n",
       "      <td>21</td>\n",
       "      <td>33</td>\n",
       "      <td>1</td>\n",
       "      <td>27</td>\n",
       "      <td>6</td>\n",
       "      <td>2</td>\n",
       "      <td>10</td>\n",
       "      <td>...</td>\n",
       "      <td>1</td>\n",
       "      <td>20</td>\n",
       "      <td>2</td>\n",
       "      <td>25</td>\n",
       "      <td>1</td>\n",
       "      <td>4</td>\n",
       "      <td>3</td>\n",
       "      <td>3</td>\n",
       "      <td>9</td>\n",
       "      <td>2535</td>\n",
       "    </tr>\n",
       "  </tbody>\n",
       "</table>\n",
       "<p>4 rows × 67 columns</p>\n",
       "</div>"
      ],
      "text/plain": [
       "agent                 2.0  3.0  5.0  6.0  8.0  9.0  15.0  26.0  29.0  36.0  \\\n",
       "distribution_channel                                                         \n",
       "Corporate               0    0    0    0    0    0     0     0     0     0   \n",
       "Direct                  1    0    0    0    0    1     0     0     0     0   \n",
       "TA/TO                  12    1   34   21   33    0    27     6     2    10   \n",
       "All                    13    1   34   21   33    1    27     6     2    10   \n",
       "\n",
       "agent                 ...  304.0  305.0  306.0  314.0  321.0  326.0  328.0  \\\n",
       "distribution_channel  ...                                                    \n",
       "Corporate             ...      1      0      0      0      0      4      3   \n",
       "Direct                ...      0     20      0      0      0      0      0   \n",
       "TA/TO                 ...      0      0      2     25      1      0      0   \n",
       "All                   ...      1     20      2     25      1      4      3   \n",
       "\n",
       "agent                 330.0  334.0   All  \n",
       "distribution_channel                      \n",
       "Corporate                 0      8    80  \n",
       "Direct                    0      1   275  \n",
       "TA/TO                     3      0  2180  \n",
       "All                       3      9  2535  \n",
       "\n",
       "[4 rows x 67 columns]"
      ]
     },
     "execution_count": 53,
     "metadata": {},
     "output_type": "execute_result"
    }
   ],
   "source": [
    "pd.crosstab(df.distribution_channel, df.agent, margins=True)"
   ]
  },
  {
   "cell_type": "code",
   "execution_count": 54,
   "metadata": {
    "ExecuteTime": {
     "end_time": "2020-06-12T07:41:42.049056Z",
     "start_time": "2020-06-12T07:41:42.002085Z"
    }
   },
   "outputs": [],
   "source": [
    "# drop seluruh kolom agent karena korelasi sangat rendah anyway\n",
    "# informasi menggunakan agent atau tidak sudah ada di kolom distribution_channel\n",
    "df = df.drop(columns='agent')"
   ]
  },
  {
   "cell_type": "markdown",
   "metadata": {
    "ExecuteTime": {
     "end_time": "2020-06-12T06:56:31.310121Z",
     "start_time": "2020-06-12T06:56:31.290133Z"
    }
   },
   "source": [
    "#### Drop Company"
   ]
  },
  {
   "cell_type": "code",
   "execution_count": 55,
   "metadata": {
    "ExecuteTime": {
     "end_time": "2020-06-12T07:41:42.217190Z",
     "start_time": "2020-06-12T07:41:42.050056Z"
    }
   },
   "outputs": [
    {
     "data": {
      "text/plain": [
       "is_canceled                       1.000000\n",
       "required_car_parking_spaces       0.287221\n",
       "company                           0.210258\n",
       "lead_time                         0.209572\n",
       "booking_changes                   0.128840\n",
       "adr                               0.096483\n",
       "adults                            0.075522\n",
       "days_in_waiting_list              0.063667\n",
       "total_of_special_requests         0.059307\n",
       "arrival_date_day_of_month         0.051248\n",
       "stays_in_week_nights              0.045046\n",
       "children                          0.035686\n",
       "stays_in_weekend_nights           0.020056\n",
       "babies                            0.014338\n",
       "arrival_date_week_number          0.010033\n",
       "arrival_date_year                      NaN\n",
       "is_repeated_guest                      NaN\n",
       "previous_cancellations                 NaN\n",
       "previous_bookings_not_canceled         NaN\n",
       "Name: is_canceled, dtype: float64"
      ]
     },
     "execution_count": 55,
     "metadata": {},
     "output_type": "execute_result"
    }
   ],
   "source": [
    "df.corr()['is_canceled'].abs().sort_values(ascending=False)"
   ]
  },
  {
   "cell_type": "code",
   "execution_count": 56,
   "metadata": {
    "ExecuteTime": {
     "end_time": "2020-06-12T07:41:42.326121Z",
     "start_time": "2020-06-12T07:41:42.219187Z"
    }
   },
   "outputs": [
    {
     "data": {
      "text/plain": [
       "array([ nan, 110., 113., 270., 178., 240., 154., 144., 307., 268.,  59.,\n",
       "       204., 312., 318.,  94., 174., 274., 195., 223., 317., 281., 118.,\n",
       "        53., 286.,  12.,  47.])"
      ]
     },
     "execution_count": 56,
     "metadata": {},
     "output_type": "execute_result"
    }
   ],
   "source": [
    "df['company'].unique()"
   ]
  },
  {
   "cell_type": "code",
   "execution_count": 57,
   "metadata": {
    "ExecuteTime": {
     "end_time": "2020-06-12T07:41:42.555957Z",
     "start_time": "2020-06-12T07:41:42.328120Z"
    }
   },
   "outputs": [
    {
     "data": {
      "text/html": [
       "<div>\n",
       "<style scoped>\n",
       "    .dataframe tbody tr th:only-of-type {\n",
       "        vertical-align: middle;\n",
       "    }\n",
       "\n",
       "    .dataframe tbody tr th {\n",
       "        vertical-align: top;\n",
       "    }\n",
       "\n",
       "    .dataframe thead th {\n",
       "        text-align: right;\n",
       "    }\n",
       "</style>\n",
       "<table border=\"1\" class=\"dataframe\">\n",
       "  <thead>\n",
       "    <tr style=\"text-align: right;\">\n",
       "      <th>company</th>\n",
       "      <th>12.0</th>\n",
       "      <th>47.0</th>\n",
       "      <th>53.0</th>\n",
       "      <th>59.0</th>\n",
       "      <th>94.0</th>\n",
       "      <th>110.0</th>\n",
       "      <th>113.0</th>\n",
       "      <th>118.0</th>\n",
       "      <th>144.0</th>\n",
       "      <th>154.0</th>\n",
       "      <th>...</th>\n",
       "      <th>268.0</th>\n",
       "      <th>270.0</th>\n",
       "      <th>274.0</th>\n",
       "      <th>281.0</th>\n",
       "      <th>286.0</th>\n",
       "      <th>307.0</th>\n",
       "      <th>312.0</th>\n",
       "      <th>317.0</th>\n",
       "      <th>318.0</th>\n",
       "      <th>All</th>\n",
       "    </tr>\n",
       "    <tr>\n",
       "      <th>distribution_channel</th>\n",
       "      <th></th>\n",
       "      <th></th>\n",
       "      <th></th>\n",
       "      <th></th>\n",
       "      <th></th>\n",
       "      <th></th>\n",
       "      <th></th>\n",
       "      <th></th>\n",
       "      <th></th>\n",
       "      <th></th>\n",
       "      <th></th>\n",
       "      <th></th>\n",
       "      <th></th>\n",
       "      <th></th>\n",
       "      <th></th>\n",
       "      <th></th>\n",
       "      <th></th>\n",
       "      <th></th>\n",
       "      <th></th>\n",
       "      <th></th>\n",
       "      <th></th>\n",
       "    </tr>\n",
       "  </thead>\n",
       "  <tbody>\n",
       "    <tr>\n",
       "      <th>Corporate</th>\n",
       "      <td>1</td>\n",
       "      <td>1</td>\n",
       "      <td>1</td>\n",
       "      <td>1</td>\n",
       "      <td>5</td>\n",
       "      <td>18</td>\n",
       "      <td>2</td>\n",
       "      <td>1</td>\n",
       "      <td>1</td>\n",
       "      <td>4</td>\n",
       "      <td>...</td>\n",
       "      <td>0</td>\n",
       "      <td>3</td>\n",
       "      <td>2</td>\n",
       "      <td>42</td>\n",
       "      <td>1</td>\n",
       "      <td>8</td>\n",
       "      <td>0</td>\n",
       "      <td>0</td>\n",
       "      <td>1</td>\n",
       "      <td>103</td>\n",
       "    </tr>\n",
       "    <tr>\n",
       "      <th>Direct</th>\n",
       "      <td>0</td>\n",
       "      <td>0</td>\n",
       "      <td>0</td>\n",
       "      <td>1</td>\n",
       "      <td>0</td>\n",
       "      <td>0</td>\n",
       "      <td>0</td>\n",
       "      <td>0</td>\n",
       "      <td>0</td>\n",
       "      <td>0</td>\n",
       "      <td>...</td>\n",
       "      <td>7</td>\n",
       "      <td>0</td>\n",
       "      <td>0</td>\n",
       "      <td>1</td>\n",
       "      <td>0</td>\n",
       "      <td>0</td>\n",
       "      <td>2</td>\n",
       "      <td>4</td>\n",
       "      <td>0</td>\n",
       "      <td>17</td>\n",
       "    </tr>\n",
       "    <tr>\n",
       "      <th>TA/TO</th>\n",
       "      <td>0</td>\n",
       "      <td>0</td>\n",
       "      <td>0</td>\n",
       "      <td>0</td>\n",
       "      <td>0</td>\n",
       "      <td>0</td>\n",
       "      <td>1</td>\n",
       "      <td>0</td>\n",
       "      <td>0</td>\n",
       "      <td>0</td>\n",
       "      <td>...</td>\n",
       "      <td>0</td>\n",
       "      <td>0</td>\n",
       "      <td>0</td>\n",
       "      <td>0</td>\n",
       "      <td>0</td>\n",
       "      <td>0</td>\n",
       "      <td>0</td>\n",
       "      <td>0</td>\n",
       "      <td>0</td>\n",
       "      <td>3</td>\n",
       "    </tr>\n",
       "    <tr>\n",
       "      <th>All</th>\n",
       "      <td>1</td>\n",
       "      <td>1</td>\n",
       "      <td>1</td>\n",
       "      <td>2</td>\n",
       "      <td>5</td>\n",
       "      <td>18</td>\n",
       "      <td>3</td>\n",
       "      <td>1</td>\n",
       "      <td>1</td>\n",
       "      <td>4</td>\n",
       "      <td>...</td>\n",
       "      <td>7</td>\n",
       "      <td>3</td>\n",
       "      <td>2</td>\n",
       "      <td>43</td>\n",
       "      <td>1</td>\n",
       "      <td>8</td>\n",
       "      <td>2</td>\n",
       "      <td>4</td>\n",
       "      <td>1</td>\n",
       "      <td>123</td>\n",
       "    </tr>\n",
       "  </tbody>\n",
       "</table>\n",
       "<p>4 rows × 26 columns</p>\n",
       "</div>"
      ],
      "text/plain": [
       "company               12.0  47.0  53.0  59.0  94.0  110.0  113.0  118.0  \\\n",
       "distribution_channel                                                      \n",
       "Corporate                1     1     1     1     5     18      2      1   \n",
       "Direct                   0     0     0     1     0      0      0      0   \n",
       "TA/TO                    0     0     0     0     0      0      1      0   \n",
       "All                      1     1     1     2     5     18      3      1   \n",
       "\n",
       "company               144.0  154.0  ...  268.0  270.0  274.0  281.0  286.0  \\\n",
       "distribution_channel                ...                                      \n",
       "Corporate                 1      4  ...      0      3      2     42      1   \n",
       "Direct                    0      0  ...      7      0      0      1      0   \n",
       "TA/TO                     0      0  ...      0      0      0      0      0   \n",
       "All                       1      4  ...      7      3      2     43      1   \n",
       "\n",
       "company               307.0  312.0  317.0  318.0  All  \n",
       "distribution_channel                                   \n",
       "Corporate                 8      0      0      1  103  \n",
       "Direct                    0      2      4      0   17  \n",
       "TA/TO                     0      0      0      0    3  \n",
       "All                       8      2      4      1  123  \n",
       "\n",
       "[4 rows x 26 columns]"
      ]
     },
     "execution_count": 57,
     "metadata": {},
     "output_type": "execute_result"
    }
   ],
   "source": [
    "pd.crosstab(df.distribution_channel, df.company, margins=True)"
   ]
  },
  {
   "cell_type": "code",
   "execution_count": 58,
   "metadata": {
    "ExecuteTime": {
     "end_time": "2020-06-12T07:41:42.626910Z",
     "start_time": "2020-06-12T07:41:42.557953Z"
    }
   },
   "outputs": [],
   "source": [
    "# drop seluruh kolom agent karena korelasi masih tergolong rendah ~ 0.2\n",
    "# kolom company adalah penjelas label 'corporate' distribution_channel\n",
    "df = df.drop(columns='company')"
   ]
  },
  {
   "cell_type": "markdown",
   "metadata": {},
   "source": [
    "#### Result"
   ]
  },
  {
   "cell_type": "code",
   "execution_count": 59,
   "metadata": {
    "ExecuteTime": {
     "end_time": "2020-06-12T07:41:42.793826Z",
     "start_time": "2020-06-12T07:41:42.631907Z"
    }
   },
   "outputs": [
    {
     "name": "stdout",
     "output_type": "stream",
     "text": [
      "<class 'pandas.core.frame.DataFrame'>\n",
      "RangeIndex: 3000 entries, 0 to 2999\n",
      "Data columns (total 30 columns):\n",
      " #   Column                          Non-Null Count  Dtype  \n",
      "---  ------                          --------------  -----  \n",
      " 0   hotel                           3000 non-null   object \n",
      " 1   is_canceled                     3000 non-null   int64  \n",
      " 2   lead_time                       3000 non-null   int64  \n",
      " 3   arrival_date_year               3000 non-null   int64  \n",
      " 4   arrival_date_month              3000 non-null   object \n",
      " 5   arrival_date_week_number        3000 non-null   int64  \n",
      " 6   arrival_date_day_of_month       3000 non-null   int64  \n",
      " 7   stays_in_weekend_nights         3000 non-null   int64  \n",
      " 8   stays_in_week_nights            3000 non-null   int64  \n",
      " 9   adults                          3000 non-null   int64  \n",
      " 10  children                        3000 non-null   float64\n",
      " 11  babies                          3000 non-null   int64  \n",
      " 12  meal                            3000 non-null   object \n",
      " 13  country                         3000 non-null   object \n",
      " 14  market_segment                  3000 non-null   object \n",
      " 15  distribution_channel            3000 non-null   object \n",
      " 16  is_repeated_guest               3000 non-null   int64  \n",
      " 17  previous_cancellations          3000 non-null   int64  \n",
      " 18  previous_bookings_not_canceled  3000 non-null   int64  \n",
      " 19  reserved_room_type              3000 non-null   object \n",
      " 20  assigned_room_type              3000 non-null   object \n",
      " 21  booking_changes                 3000 non-null   int64  \n",
      " 22  deposit_type                    3000 non-null   object \n",
      " 23  days_in_waiting_list            3000 non-null   int64  \n",
      " 24  customer_type                   3000 non-null   object \n",
      " 25  adr                             3000 non-null   float64\n",
      " 26  required_car_parking_spaces     3000 non-null   int64  \n",
      " 27  total_of_special_requests       3000 non-null   int64  \n",
      " 28  reservation_status              3000 non-null   object \n",
      " 29  reservation_status_date         3000 non-null   object \n",
      "dtypes: float64(2), int64(16), object(12)\n",
      "memory usage: 562.6+ KB\n"
     ]
    }
   ],
   "source": [
    "df.info()"
   ]
  },
  {
   "cell_type": "markdown",
   "metadata": {},
   "source": [
    "### Unnecessary Cols"
   ]
  },
  {
   "cell_type": "code",
   "execution_count": 60,
   "metadata": {
    "ExecuteTime": {
     "end_time": "2020-06-12T07:41:42.914904Z",
     "start_time": "2020-06-12T07:41:42.796822Z"
    }
   },
   "outputs": [
    {
     "data": {
      "text/html": [
       "<div>\n",
       "<style scoped>\n",
       "    .dataframe tbody tr th:only-of-type {\n",
       "        vertical-align: middle;\n",
       "    }\n",
       "\n",
       "    .dataframe tbody tr th {\n",
       "        vertical-align: top;\n",
       "    }\n",
       "\n",
       "    .dataframe thead th {\n",
       "        text-align: right;\n",
       "    }\n",
       "</style>\n",
       "<table border=\"1\" class=\"dataframe\">\n",
       "  <thead>\n",
       "    <tr style=\"text-align: right;\">\n",
       "      <th></th>\n",
       "      <th>lead_time</th>\n",
       "      <th>arrival_date_year</th>\n",
       "      <th>arrival_date_week_number</th>\n",
       "      <th>arrival_date_day_of_month</th>\n",
       "      <th>stays_in_weekend_nights</th>\n",
       "      <th>stays_in_week_nights</th>\n",
       "      <th>adults</th>\n",
       "      <th>children</th>\n",
       "      <th>babies</th>\n",
       "      <th>is_repeated_guest</th>\n",
       "      <th>previous_cancellations</th>\n",
       "      <th>previous_bookings_not_canceled</th>\n",
       "      <th>booking_changes</th>\n",
       "      <th>days_in_waiting_list</th>\n",
       "      <th>adr</th>\n",
       "      <th>required_car_parking_spaces</th>\n",
       "      <th>total_of_special_requests</th>\n",
       "    </tr>\n",
       "    <tr>\n",
       "      <th>is_canceled</th>\n",
       "      <th></th>\n",
       "      <th></th>\n",
       "      <th></th>\n",
       "      <th></th>\n",
       "      <th></th>\n",
       "      <th></th>\n",
       "      <th></th>\n",
       "      <th></th>\n",
       "      <th></th>\n",
       "      <th></th>\n",
       "      <th></th>\n",
       "      <th></th>\n",
       "      <th></th>\n",
       "      <th></th>\n",
       "      <th></th>\n",
       "      <th></th>\n",
       "      <th></th>\n",
       "    </tr>\n",
       "  </thead>\n",
       "  <tbody>\n",
       "    <tr>\n",
       "      <th>0</th>\n",
       "      <td>54.234383</td>\n",
       "      <td>2015.0</td>\n",
       "      <td>35.897264</td>\n",
       "      <td>14.726381</td>\n",
       "      <td>1.298916</td>\n",
       "      <td>3.416107</td>\n",
       "      <td>1.921528</td>\n",
       "      <td>0.125968</td>\n",
       "      <td>0.021167</td>\n",
       "      <td>0.0</td>\n",
       "      <td>0.0</td>\n",
       "      <td>0.0</td>\n",
       "      <td>0.271554</td>\n",
       "      <td>0.535364</td>\n",
       "      <td>101.120222</td>\n",
       "      <td>0.20444</td>\n",
       "      <td>0.766133</td>\n",
       "    </tr>\n",
       "    <tr>\n",
       "      <th>1</th>\n",
       "      <td>81.063029</td>\n",
       "      <td>2015.0</td>\n",
       "      <td>36.015052</td>\n",
       "      <td>15.702728</td>\n",
       "      <td>1.347131</td>\n",
       "      <td>3.641580</td>\n",
       "      <td>2.236124</td>\n",
       "      <td>0.162747</td>\n",
       "      <td>0.016933</td>\n",
       "      <td>0.0</td>\n",
       "      <td>0.0</td>\n",
       "      <td>0.0</td>\n",
       "      <td>0.098777</td>\n",
       "      <td>0.000000</td>\n",
       "      <td>112.085165</td>\n",
       "      <td>0.00000</td>\n",
       "      <td>0.658514</td>\n",
       "    </tr>\n",
       "  </tbody>\n",
       "</table>\n",
       "</div>"
      ],
      "text/plain": [
       "             lead_time  arrival_date_year  arrival_date_week_number  \\\n",
       "is_canceled                                                           \n",
       "0            54.234383             2015.0                 35.897264   \n",
       "1            81.063029             2015.0                 36.015052   \n",
       "\n",
       "             arrival_date_day_of_month  stays_in_weekend_nights  \\\n",
       "is_canceled                                                       \n",
       "0                            14.726381                 1.298916   \n",
       "1                            15.702728                 1.347131   \n",
       "\n",
       "             stays_in_week_nights    adults  children    babies  \\\n",
       "is_canceled                                                       \n",
       "0                        3.416107  1.921528  0.125968  0.021167   \n",
       "1                        3.641580  2.236124  0.162747  0.016933   \n",
       "\n",
       "             is_repeated_guest  previous_cancellations  \\\n",
       "is_canceled                                              \n",
       "0                          0.0                     0.0   \n",
       "1                          0.0                     0.0   \n",
       "\n",
       "             previous_bookings_not_canceled  booking_changes  \\\n",
       "is_canceled                                                    \n",
       "0                                       0.0         0.271554   \n",
       "1                                       0.0         0.098777   \n",
       "\n",
       "             days_in_waiting_list         adr  required_car_parking_spaces  \\\n",
       "is_canceled                                                                  \n",
       "0                        0.535364  101.120222                      0.20444   \n",
       "1                        0.000000  112.085165                      0.00000   \n",
       "\n",
       "             total_of_special_requests  \n",
       "is_canceled                             \n",
       "0                             0.766133  \n",
       "1                             0.658514  "
      ]
     },
     "execution_count": 60,
     "metadata": {},
     "output_type": "execute_result"
    }
   ],
   "source": [
    "df.groupby('is_canceled').agg('mean')"
   ]
  },
  {
   "cell_type": "code",
   "execution_count": 61,
   "metadata": {
    "ExecuteTime": {
     "end_time": "2020-06-12T07:41:43.052375Z",
     "start_time": "2020-06-12T07:41:42.915903Z"
    }
   },
   "outputs": [
    {
     "data": {
      "text/html": [
       "<div>\n",
       "<style scoped>\n",
       "    .dataframe tbody tr th:only-of-type {\n",
       "        vertical-align: middle;\n",
       "    }\n",
       "\n",
       "    .dataframe tbody tr th {\n",
       "        vertical-align: top;\n",
       "    }\n",
       "\n",
       "    .dataframe thead th {\n",
       "        text-align: right;\n",
       "    }\n",
       "</style>\n",
       "<table border=\"1\" class=\"dataframe\">\n",
       "  <thead>\n",
       "    <tr style=\"text-align: right;\">\n",
       "      <th>reservation_status</th>\n",
       "      <th>Canceled</th>\n",
       "      <th>Check-Out</th>\n",
       "      <th>No-Show</th>\n",
       "      <th>All</th>\n",
       "    </tr>\n",
       "    <tr>\n",
       "      <th>is_canceled</th>\n",
       "      <th></th>\n",
       "      <th></th>\n",
       "      <th></th>\n",
       "      <th></th>\n",
       "    </tr>\n",
       "  </thead>\n",
       "  <tbody>\n",
       "    <tr>\n",
       "      <th>0</th>\n",
       "      <td>0</td>\n",
       "      <td>1937</td>\n",
       "      <td>0</td>\n",
       "      <td>1937</td>\n",
       "    </tr>\n",
       "    <tr>\n",
       "      <th>1</th>\n",
       "      <td>1037</td>\n",
       "      <td>0</td>\n",
       "      <td>26</td>\n",
       "      <td>1063</td>\n",
       "    </tr>\n",
       "    <tr>\n",
       "      <th>All</th>\n",
       "      <td>1037</td>\n",
       "      <td>1937</td>\n",
       "      <td>26</td>\n",
       "      <td>3000</td>\n",
       "    </tr>\n",
       "  </tbody>\n",
       "</table>\n",
       "</div>"
      ],
      "text/plain": [
       "reservation_status  Canceled  Check-Out  No-Show   All\n",
       "is_canceled                                           \n",
       "0                          0       1937        0  1937\n",
       "1                       1037          0       26  1063\n",
       "All                     1037       1937       26  3000"
      ]
     },
     "execution_count": 61,
     "metadata": {},
     "output_type": "execute_result"
    }
   ],
   "source": [
    "pd.crosstab(df.is_canceled, df.reservation_status, margins=True)"
   ]
  },
  {
   "cell_type": "code",
   "execution_count": 62,
   "metadata": {
    "ExecuteTime": {
     "end_time": "2020-06-12T07:41:43.132312Z",
     "start_time": "2020-06-12T07:41:43.054359Z"
    }
   },
   "outputs": [
    {
     "data": {
      "text/html": [
       "<div>\n",
       "<style scoped>\n",
       "    .dataframe tbody tr th:only-of-type {\n",
       "        vertical-align: middle;\n",
       "    }\n",
       "\n",
       "    .dataframe tbody tr th {\n",
       "        vertical-align: top;\n",
       "    }\n",
       "\n",
       "    .dataframe thead th {\n",
       "        text-align: right;\n",
       "    }\n",
       "</style>\n",
       "<table border=\"1\" class=\"dataframe\">\n",
       "  <thead>\n",
       "    <tr style=\"text-align: right;\">\n",
       "      <th></th>\n",
       "      <th>dataFeatures</th>\n",
       "      <th>dataType</th>\n",
       "      <th>null</th>\n",
       "      <th>null_pct</th>\n",
       "      <th>unique</th>\n",
       "      <th>unique_pct</th>\n",
       "    </tr>\n",
       "  </thead>\n",
       "  <tbody>\n",
       "    <tr>\n",
       "      <th>0</th>\n",
       "      <td>hotel</td>\n",
       "      <td>object</td>\n",
       "      <td>0</td>\n",
       "      <td>0.0</td>\n",
       "      <td>1</td>\n",
       "      <td>0.03</td>\n",
       "    </tr>\n",
       "    <tr>\n",
       "      <th>3</th>\n",
       "      <td>arrival_date_year</td>\n",
       "      <td>int64</td>\n",
       "      <td>0</td>\n",
       "      <td>0.0</td>\n",
       "      <td>1</td>\n",
       "      <td>0.03</td>\n",
       "    </tr>\n",
       "    <tr>\n",
       "      <th>16</th>\n",
       "      <td>is_repeated_guest</td>\n",
       "      <td>int64</td>\n",
       "      <td>0</td>\n",
       "      <td>0.0</td>\n",
       "      <td>1</td>\n",
       "      <td>0.03</td>\n",
       "    </tr>\n",
       "    <tr>\n",
       "      <th>17</th>\n",
       "      <td>previous_cancellations</td>\n",
       "      <td>int64</td>\n",
       "      <td>0</td>\n",
       "      <td>0.0</td>\n",
       "      <td>1</td>\n",
       "      <td>0.03</td>\n",
       "    </tr>\n",
       "    <tr>\n",
       "      <th>18</th>\n",
       "      <td>previous_bookings_not_canceled</td>\n",
       "      <td>int64</td>\n",
       "      <td>0</td>\n",
       "      <td>0.0</td>\n",
       "      <td>1</td>\n",
       "      <td>0.03</td>\n",
       "    </tr>\n",
       "  </tbody>\n",
       "</table>\n",
       "</div>"
      ],
      "text/plain": [
       "                      dataFeatures dataType  null  null_pct  unique  \\\n",
       "0                            hotel   object     0       0.0       1   \n",
       "3                arrival_date_year    int64     0       0.0       1   \n",
       "16               is_repeated_guest    int64     0       0.0       1   \n",
       "17          previous_cancellations    int64     0       0.0       1   \n",
       "18  previous_bookings_not_canceled    int64     0       0.0       1   \n",
       "\n",
       "    unique_pct  \n",
       "0         0.03  \n",
       "3         0.03  \n",
       "16        0.03  \n",
       "17        0.03  \n",
       "18        0.03  "
      ]
     },
     "execution_count": 62,
     "metadata": {},
     "output_type": "execute_result"
    }
   ],
   "source": [
    "summ = summary_table(df)\n",
    "summ[summ['unique']<2]\n",
    "\n",
    "# tidak berguna karena semua row bervalue sama"
   ]
  },
  {
   "cell_type": "code",
   "execution_count": 63,
   "metadata": {
    "ExecuteTime": {
     "end_time": "2020-06-12T07:41:43.204125Z",
     "start_time": "2020-06-12T07:41:43.134311Z"
    }
   },
   "outputs": [],
   "source": [
    "# drop kolom2 yang menurut logika & intuisi kurang berguna bagi model\n",
    "\n",
    "df = df.drop(columns=[\n",
    "    'hotel', \n",
    "#     'is_canceled', ---->TARGET\n",
    "#     'lead_time', \n",
    "    'arrival_date_year',\n",
    "#     'arrival_date_month', ----> CUKUP MEWAKILKAN SEASONALITY\n",
    "    'arrival_date_week_number',\n",
    "    'arrival_date_day_of_month', \n",
    "#     'stays_in_weekend_nights',\n",
    "#     'stays_in_week_nights', \n",
    "#     'adults', \n",
    "#     'children', \n",
    "#     'babies', \n",
    "#     'meal', \n",
    "    'country',\n",
    "#     'market_segment', \n",
    "#     'distribution_channel', \n",
    "    'is_repeated_guest',\n",
    "    'previous_cancellations', \n",
    "    'previous_bookings_not_canceled',\n",
    "#     'reserved_room_type', \n",
    "#     'assigned_room_type', \n",
    "#     'booking_changes',\n",
    "#     'deposit_type', \n",
    "#     'days_in_waiting_list', \n",
    "#     'customer_type', \n",
    "#     'adr',\n",
    "#     'required_car_parking_spaces', \n",
    "#     'total_of_special_requests',\n",
    "    'reservation_status',  # ----> SUDAH DIWAKILKAN TARGET\n",
    "    'reservation_status_date'  # ---->  related with above\n",
    "])"
   ]
  },
  {
   "cell_type": "markdown",
   "metadata": {},
   "source": [
    "### Feature Engineering"
   ]
  },
  {
   "cell_type": "code",
   "execution_count": 64,
   "metadata": {
    "ExecuteTime": {
     "end_time": "2020-06-12T07:41:43.303124Z",
     "start_time": "2020-06-12T07:41:43.205845Z"
    }
   },
   "outputs": [
    {
     "data": {
      "text/plain": [
       "Index(['is_canceled', 'lead_time', 'arrival_date_month',\n",
       "       'stays_in_weekend_nights', 'stays_in_week_nights', 'adults', 'children',\n",
       "       'babies', 'meal', 'market_segment', 'distribution_channel',\n",
       "       'reserved_room_type', 'assigned_room_type', 'booking_changes',\n",
       "       'deposit_type', 'days_in_waiting_list', 'customer_type', 'adr',\n",
       "       'required_car_parking_spaces', 'total_of_special_requests'],\n",
       "      dtype='object')"
      ]
     },
     "execution_count": 64,
     "metadata": {},
     "output_type": "execute_result"
    }
   ],
   "source": [
    "df.columns"
   ]
  },
  {
   "cell_type": "code",
   "execution_count": 65,
   "metadata": {
    "ExecuteTime": {
     "end_time": "2020-06-12T07:41:43.404085Z",
     "start_time": "2020-06-12T07:41:43.304124Z"
    }
   },
   "outputs": [],
   "source": [
    "df['length_stay'] = df['stays_in_weekend_nights'] + df['stays_in_week_nights']\n",
    "df['number_guest'] = df['adults'] + df['children'] + df['babies']"
   ]
  },
  {
   "cell_type": "code",
   "execution_count": 66,
   "metadata": {
    "ExecuteTime": {
     "end_time": "2020-06-12T07:41:43.525181Z",
     "start_time": "2020-06-12T07:41:43.406084Z"
    }
   },
   "outputs": [
    {
     "data": {
      "text/plain": [
       "is_canceled                    1.000000\n",
       "required_car_parking_spaces    0.287221\n",
       "lead_time                      0.209572\n",
       "booking_changes                0.128840\n",
       "adr                            0.096483\n",
       "number_guest                   0.080825\n",
       "adults                         0.075522\n",
       "days_in_waiting_list           0.063667\n",
       "total_of_special_requests      0.059307\n",
       "stays_in_week_nights           0.045046\n",
       "length_stay                    0.039187\n",
       "children                       0.035686\n",
       "stays_in_weekend_nights        0.020056\n",
       "babies                         0.014338\n",
       "Name: is_canceled, dtype: float64"
      ]
     },
     "execution_count": 66,
     "metadata": {},
     "output_type": "execute_result"
    }
   ],
   "source": [
    "df.corr()['is_canceled'].abs().sort_values(ascending=False)\n",
    "\n",
    "# engineered feats cukup bagus"
   ]
  },
  {
   "cell_type": "code",
   "execution_count": 67,
   "metadata": {
    "ExecuteTime": {
     "end_time": "2020-06-12T07:41:43.604130Z",
     "start_time": "2020-06-12T07:41:43.528183Z"
    }
   },
   "outputs": [],
   "source": [
    "# keep length_stay + number_guest\n",
    "\n",
    "df = df.drop(columns=['stays_in_weekend_nights', 'stays_in_week_nights', 'adults', 'children', 'babies'])"
   ]
  },
  {
   "cell_type": "code",
   "execution_count": 68,
   "metadata": {
    "ExecuteTime": {
     "end_time": "2020-06-12T07:41:43.733066Z",
     "start_time": "2020-06-12T07:41:43.606129Z"
    }
   },
   "outputs": [
    {
     "data": {
      "text/html": [
       "<div>\n",
       "<style scoped>\n",
       "    .dataframe tbody tr th:only-of-type {\n",
       "        vertical-align: middle;\n",
       "    }\n",
       "\n",
       "    .dataframe tbody tr th {\n",
       "        vertical-align: top;\n",
       "    }\n",
       "\n",
       "    .dataframe thead th {\n",
       "        text-align: right;\n",
       "    }\n",
       "</style>\n",
       "<table border=\"1\" class=\"dataframe\">\n",
       "  <thead>\n",
       "    <tr style=\"text-align: right;\">\n",
       "      <th></th>\n",
       "      <th>arrival_date_month</th>\n",
       "      <th>meal</th>\n",
       "      <th>market_segment</th>\n",
       "      <th>distribution_channel</th>\n",
       "      <th>reserved_room_type</th>\n",
       "      <th>assigned_room_type</th>\n",
       "      <th>deposit_type</th>\n",
       "      <th>customer_type</th>\n",
       "    </tr>\n",
       "  </thead>\n",
       "  <tbody>\n",
       "    <tr>\n",
       "      <th>count</th>\n",
       "      <td>3000</td>\n",
       "      <td>3000</td>\n",
       "      <td>3000</td>\n",
       "      <td>3000</td>\n",
       "      <td>3000</td>\n",
       "      <td>3000</td>\n",
       "      <td>3000</td>\n",
       "      <td>3000</td>\n",
       "    </tr>\n",
       "    <tr>\n",
       "      <th>unique</th>\n",
       "      <td>5</td>\n",
       "      <td>4</td>\n",
       "      <td>6</td>\n",
       "      <td>3</td>\n",
       "      <td>8</td>\n",
       "      <td>9</td>\n",
       "      <td>3</td>\n",
       "      <td>4</td>\n",
       "    </tr>\n",
       "    <tr>\n",
       "      <th>top</th>\n",
       "      <td>July</td>\n",
       "      <td>BB</td>\n",
       "      <td>Online TA</td>\n",
       "      <td>TA/TO</td>\n",
       "      <td>A</td>\n",
       "      <td>A</td>\n",
       "      <td>No Deposit</td>\n",
       "      <td>Transient</td>\n",
       "    </tr>\n",
       "    <tr>\n",
       "      <th>freq</th>\n",
       "      <td>842</td>\n",
       "      <td>2333</td>\n",
       "      <td>1478</td>\n",
       "      <td>2188</td>\n",
       "      <td>1678</td>\n",
       "      <td>1301</td>\n",
       "      <td>2878</td>\n",
       "      <td>2465</td>\n",
       "    </tr>\n",
       "  </tbody>\n",
       "</table>\n",
       "</div>"
      ],
      "text/plain": [
       "       arrival_date_month  meal market_segment distribution_channel  \\\n",
       "count                3000  3000           3000                 3000   \n",
       "unique                  5     4              6                    3   \n",
       "top                  July    BB      Online TA                TA/TO   \n",
       "freq                  842  2333           1478                 2188   \n",
       "\n",
       "       reserved_room_type assigned_room_type deposit_type customer_type  \n",
       "count                3000               3000         3000          3000  \n",
       "unique                  8                  9            3             4  \n",
       "top                     A                  A   No Deposit     Transient  \n",
       "freq                 1678               1301         2878          2465  "
      ]
     },
     "execution_count": 68,
     "metadata": {},
     "output_type": "execute_result"
    }
   ],
   "source": [
    "df.describe(exclude='number')"
   ]
  },
  {
   "cell_type": "code",
   "execution_count": 83,
   "metadata": {
    "ExecuteTime": {
     "end_time": "2020-06-12T07:47:16.035524Z",
     "start_time": "2020-06-12T07:47:16.029531Z"
    }
   },
   "outputs": [],
   "source": [
    "df['change_room_type'] = df['reserved_room_type'] != df['assigned_room_type']"
   ]
  },
  {
   "cell_type": "code",
   "execution_count": 84,
   "metadata": {
    "ExecuteTime": {
     "end_time": "2020-06-12T07:47:16.404949Z",
     "start_time": "2020-06-12T07:47:16.395954Z"
    }
   },
   "outputs": [
    {
     "data": {
      "text/plain": [
       "False    2465\n",
       "True      535\n",
       "Name: change_room_type, dtype: int64"
      ]
     },
     "execution_count": 84,
     "metadata": {},
     "output_type": "execute_result"
    }
   ],
   "source": [
    "df['change_room_type'].value_counts()"
   ]
  },
  {
   "cell_type": "code",
   "execution_count": 85,
   "metadata": {
    "ExecuteTime": {
     "end_time": "2020-06-12T07:47:16.894409Z",
     "start_time": "2020-06-12T07:47:16.886414Z"
    }
   },
   "outputs": [
    {
     "name": "stdout",
     "output_type": "stream",
     "text": [
      "{0: False, 1: True}\n",
      "Successfully encoded\n"
     ]
    }
   ],
   "source": [
    "label_encoder = LabelEncoder()\n",
    "df['change_room_type'] = label_encoder.fit_transform(df['change_room_type'])\n",
    "print({index: label for index, label in enumerate(label_encoder.classes_)})\n",
    "print(f'Successfully encoded')"
   ]
  },
  {
   "cell_type": "code",
   "execution_count": 86,
   "metadata": {
    "ExecuteTime": {
     "end_time": "2020-06-12T07:47:27.458250Z",
     "start_time": "2020-06-12T07:47:27.442258Z"
    }
   },
   "outputs": [
    {
     "data": {
      "text/plain": [
       "is_canceled                    1.000000\n",
       "change_room_type               0.288683\n",
       "required_car_parking_spaces    0.287221\n",
       "lead_time                      0.209572\n",
       "booking_changes                0.128840\n",
       "adr                            0.096483\n",
       "number_guest                   0.080825\n",
       "days_in_waiting_list           0.063667\n",
       "total_of_special_requests      0.059307\n",
       "length_stay                    0.039187\n",
       "Name: is_canceled, dtype: float64"
      ]
     },
     "execution_count": 86,
     "metadata": {},
     "output_type": "execute_result"
    }
   ],
   "source": [
    "df.corr()['is_canceled'].abs().sort_values(ascending=False)\n",
    "\n",
    "# engineered feat cukup bagus"
   ]
  },
  {
   "cell_type": "markdown",
   "metadata": {},
   "source": [
    "## EDA"
   ]
  },
  {
   "cell_type": "code",
   "execution_count": 87,
   "metadata": {
    "ExecuteTime": {
     "end_time": "2020-06-12T07:49:08.283360Z",
     "start_time": "2020-06-12T07:49:08.265372Z"
    }
   },
   "outputs": [
    {
     "name": "stdout",
     "output_type": "stream",
     "text": [
      "<class 'pandas.core.frame.DataFrame'>\n",
      "RangeIndex: 3000 entries, 0 to 2999\n",
      "Data columns (total 18 columns):\n",
      " #   Column                       Non-Null Count  Dtype  \n",
      "---  ------                       --------------  -----  \n",
      " 0   is_canceled                  3000 non-null   int64  \n",
      " 1   lead_time                    3000 non-null   int64  \n",
      " 2   arrival_date_month           3000 non-null   object \n",
      " 3   meal                         3000 non-null   object \n",
      " 4   market_segment               3000 non-null   object \n",
      " 5   distribution_channel         3000 non-null   object \n",
      " 6   reserved_room_type           3000 non-null   object \n",
      " 7   assigned_room_type           3000 non-null   object \n",
      " 8   booking_changes              3000 non-null   int64  \n",
      " 9   deposit_type                 3000 non-null   object \n",
      " 10  days_in_waiting_list         3000 non-null   int64  \n",
      " 11  customer_type                3000 non-null   object \n",
      " 12  adr                          3000 non-null   float64\n",
      " 13  required_car_parking_spaces  3000 non-null   int64  \n",
      " 14  total_of_special_requests    3000 non-null   int64  \n",
      " 15  length_stay                  3000 non-null   int64  \n",
      " 16  number_guest                 3000 non-null   float64\n",
      " 17  change_room_type             3000 non-null   int32  \n",
      "dtypes: float64(2), int32(1), int64(7), object(8)\n",
      "memory usage: 316.5+ KB\n"
     ]
    }
   ],
   "source": [
    "df.info()"
   ]
  },
  {
   "cell_type": "code",
   "execution_count": 88,
   "metadata": {
    "ExecuteTime": {
     "end_time": "2020-06-12T07:49:10.746938Z",
     "start_time": "2020-06-12T07:49:10.740942Z"
    }
   },
   "outputs": [
    {
     "data": {
      "text/plain": [
       "Index(['is_canceled', 'lead_time', 'arrival_date_month', 'meal',\n",
       "       'market_segment', 'distribution_channel', 'reserved_room_type',\n",
       "       'assigned_room_type', 'booking_changes', 'deposit_type',\n",
       "       'days_in_waiting_list', 'customer_type', 'adr',\n",
       "       'required_car_parking_spaces', 'total_of_special_requests',\n",
       "       'length_stay', 'number_guest', 'change_room_type'],\n",
       "      dtype='object')"
      ]
     },
     "execution_count": 88,
     "metadata": {},
     "output_type": "execute_result"
    }
   ],
   "source": [
    "df.columns"
   ]
  },
  {
   "cell_type": "code",
   "execution_count": 95,
   "metadata": {
    "ExecuteTime": {
     "end_time": "2020-06-12T07:54:07.116065Z",
     "start_time": "2020-06-12T07:54:07.106071Z"
    }
   },
   "outputs": [
    {
     "data": {
      "text/plain": [
       "True"
      ]
     },
     "execution_count": 95,
     "metadata": {},
     "output_type": "execute_result"
    }
   ],
   "source": [
    "target = 'is_canceled'\n",
    "num_feats = [\n",
    "    'lead_time', 'booking_changes', 'days_in_waiting_list', 'adr',\n",
    "    'required_car_parking_spaces', 'total_of_special_requests', 'length_stay',\n",
    "    'number_guest'\n",
    "]\n",
    "cat_feats = [\n",
    "    'arrival_date_month', 'meal', 'market_segment', 'distribution_channel',\n",
    "    'reserved_room_type', 'assigned_room_type', 'deposit_type',\n",
    "    'customer_type', 'change_room_type'\n",
    "]\n",
    "1 + len(num_feats) + len(cat_feats) == len(df.columns)"
   ]
  },
  {
   "cell_type": "markdown",
   "metadata": {},
   "source": [
    "### Distributions"
   ]
  },
  {
   "cell_type": "code",
   "execution_count": 96,
   "metadata": {
    "ExecuteTime": {
     "end_time": "2020-06-12T07:55:03.047852Z",
     "start_time": "2020-06-12T07:55:01.100036Z"
    },
    "scrolled": false
   },
   "outputs": [
    {
     "data": {
      "image/png": "[encoded data removed]",
      "text/plain": [
       "<Figure size 432x288 with 1 Axes>"
      ]
     },
     "metadata": {},
     "output_type": "display_data"
    },
    {
     "data": {
      "image/png": "[encoded data removed]",
      "text/plain": [
       "<Figure size 432x288 with 1 Axes>"
      ]
     },
     "metadata": {},
     "output_type": "display_data"
    },
    {
     "data": {
      "image/png": "[encoded data removed]",
      "text/plain": [
       "<Figure size 432x288 with 1 Axes>"
      ]
     },
     "metadata": {},
     "output_type": "display_data"
    },
    {
     "data": {
      "image/png": "[encoded data removed]",
      "text/plain": [
       "<Figure size 432x288 with 1 Axes>"
      ]
     },
     "metadata": {},
     "output_type": "display_data"
    },
    {
     "data": {
      "image/png": "[encoded data removed]",
      "text/plain": [
       "<Figure size 432x288 with 1 Axes>"
      ]
     },
     "metadata": {},
     "output_type": "display_data"
    },
    {
     "data": {
      "image/png": "[encoded data removed]",
      "text/plain": [
       "<Figure size 432x288 with 1 Axes>"
      ]
     },
     "metadata": {},
     "output_type": "display_data"
    },
    {
     "data": {
      "image/png": "[encoded data removed]",
      "text/plain": [
       "<Figure size 432x288 with 1 Axes>"
      ]
     },
     "metadata": {},
     "output_type": "display_data"
    },
    {
     "data": {
      "image/png": "[encoded data removed]",
      "text/plain": [
       "<Figure size 432x288 with 1 Axes>"
      ]
     },
     "metadata": {},
     "output_type": "display_data"
    }
   ],
   "source": [
    "for column in num_feats:\n",
    "    sns.distplot(df[column], kde_kws={'bw':0.1})\n",
    "    plt.show()"
   ]
  },
  {
   "cell_type": "code",
   "execution_count": 97,
   "metadata": {
    "ExecuteTime": {
     "end_time": "2020-06-12T07:56:18.982739Z",
     "start_time": "2020-06-12T07:56:18.966750Z"
    }
   },
   "outputs": [
    {
     "name": "stdout",
     "output_type": "stream",
     "text": [
      "lead_time\n",
      " Statistics=0.816, p=0.000\n",
      " Distribution does not look Gaussian (reject H0)\n",
      "\n",
      "\n",
      "booking_changes\n",
      " Statistics=0.350, p=0.000\n",
      " Distribution does not look Gaussian (reject H0)\n",
      "\n",
      "\n",
      "days_in_waiting_list\n",
      " Statistics=0.057, p=0.000\n",
      " Distribution does not look Gaussian (reject H0)\n",
      "\n",
      "\n",
      "adr\n",
      " Statistics=0.979, p=0.000\n",
      " Distribution does not look Gaussian (reject H0)\n",
      "\n",
      "\n",
      "required_car_parking_spaces\n",
      " Statistics=0.400, p=0.000\n",
      " Distribution does not look Gaussian (reject H0)\n",
      "\n",
      "\n",
      "total_of_special_requests\n",
      " Statistics=0.775, p=0.000\n",
      " Distribution does not look Gaussian (reject H0)\n",
      "\n",
      "\n",
      "length_stay\n",
      " Statistics=0.881, p=0.000\n",
      " Distribution does not look Gaussian (reject H0)\n",
      "\n",
      "\n",
      "number_guest\n",
      " Statistics=0.185, p=0.000\n",
      " Distribution does not look Gaussian (reject H0)\n",
      "\n",
      "\n"
     ]
    }
   ],
   "source": [
    "def normal_shapiro(df, col, alpha):\n",
    "    '''Function to identify outliers in a column based on interquantile range (IQR)\n",
    "       df = Dataset name\n",
    "       col = Column name\n",
    "       alpha = Threshold level (float)'''\n",
    "    \n",
    "    stat, p = shapiro(df[col])\n",
    "    print(col)\n",
    "    print(' Statistics=%.3f, p=%.3f' % (stat, p))\n",
    "    if p > alpha:\n",
    "        print(' Distribution looks Gaussian (fail to reject H0)')\n",
    "    else:\n",
    "        print(' Distribution does not look Gaussian (reject H0)')\n",
    "    print('\\n')\n",
    "    \n",
    "for feat in num_feats:\n",
    "    normal_shapiro(df, feat, 0.05)\n",
    "    \n",
    "# semua tidak normal maka untuk spot outliers gunakan IQR"
   ]
  },
  {
   "cell_type": "code",
   "execution_count": 98,
   "metadata": {
    "ExecuteTime": {
     "end_time": "2020-06-12T07:56:42.209174Z",
     "start_time": "2020-06-12T07:56:41.174817Z"
    },
    "scrolled": false
   },
   "outputs": [
    {
     "data": {
      "image/png": "[encoded data removed]",
      "text/plain": [
       "<Figure size 432x288 with 1 Axes>"
      ]
     },
     "metadata": {},
     "output_type": "display_data"
    },
    {
     "data": {
      "image/png": "[encoded data removed]",
      "text/plain": [
       "<Figure size 432x288 with 1 Axes>"
      ]
     },
     "metadata": {},
     "output_type": "display_data"
    },
    {
     "data": {
      "image/png": "[encoded data removed]",
      "text/plain": [
       "<Figure size 432x288 with 1 Axes>"
      ]
     },
     "metadata": {},
     "output_type": "display_data"
    },
    {
     "data": {
      "image/png": "[encoded data removed]",
      "text/plain": [
       "<Figure size 432x288 with 1 Axes>"
      ]
     },
     "metadata": {},
     "output_type": "display_data"
    },
    {
     "data": {
      "image/png": "[encoded data removed]",
      "text/plain": [
       "<Figure size 432x288 with 1 Axes>"
      ]
     },
     "metadata": {},
     "output_type": "display_data"
    },
    {
     "data": {
      "image/png": "[encoded data removed]",
      "text/plain": [
       "<Figure size 432x288 with 1 Axes>"
      ]
     },
     "metadata": {},
     "output_type": "display_data"
    },
    {
     "data": {
      "image/png": "[encoded data removed]",
      "text/plain": [
       "<Figure size 432x288 with 1 Axes>"
      ]
     },
     "metadata": {},
     "output_type": "display_data"
    },
    {
     "data": {
      "image/png": "[encoded data removed]",
      "text/plain": [
       "<Figure size 432x288 with 1 Axes>"
      ]
     },
     "metadata": {},
     "output_type": "display_data"
    }
   ],
   "source": [
    "for feat in num_feats:\n",
    "    sns.boxplot(df[feat])\n",
    "    plt.show()\n",
    "    \n",
    "# visually spotted outliers"
   ]
  },
  {
   "cell_type": "code",
   "execution_count": 99,
   "metadata": {
    "ExecuteTime": {
     "end_time": "2020-06-12T07:57:31.297875Z",
     "start_time": "2020-06-12T07:57:31.234914Z"
    }
   },
   "outputs": [
    {
     "name": "stdout",
     "output_type": "stream",
     "text": [
      "Identified outlier in lead_time: \n",
      " 68 records, \n",
      " 2.27 percent, \n",
      " lower threshold: -85.0 \n",
      " upper threshold: 195.0 \n",
      "\n",
      "Identified outlier in booking_changes: \n",
      " 3000 records, \n",
      " 100.0 percent, \n",
      " lower threshold: 0.0 \n",
      " upper threshold: 0.0 \n",
      "\n",
      "Identified outlier in days_in_waiting_list: \n",
      " 3000 records, \n",
      " 100.0 percent, \n",
      " lower threshold: 0.0 \n",
      " upper threshold: 0.0 \n",
      "\n",
      "Identified outlier in adr: \n",
      " 16 records, \n",
      " 0.53 percent, \n",
      " lower threshold: -54.9 \n",
      " upper threshold: 255.1 \n",
      "\n",
      "Identified outlier in required_car_parking_spaces: \n",
      " 3000 records, \n",
      " 100.0 percent, \n",
      " lower threshold: 0.0 \n",
      " upper threshold: 0.0 \n",
      "\n",
      "Identified outlier in total_of_special_requests: \n",
      " 109 records, \n",
      " 3.63 percent, \n",
      " lower threshold: -1.5 \n",
      " upper threshold: 2.5 \n",
      "\n",
      "Identified outlier in length_stay: \n",
      " 25 records, \n",
      " 0.83 percent, \n",
      " lower threshold: -5.5 \n",
      " upper threshold: 14.5 \n",
      "\n",
      "Identified outlier in number_guest: \n",
      " 3000 records, \n",
      " 100.0 percent, \n",
      " lower threshold: 2.0 \n",
      " upper threshold: 2.0 \n",
      "\n"
     ]
    }
   ],
   "source": [
    "def out_iqr(df, col):\n",
    "    '''Function to identify outliers in a column based on interquantile range (IQR)\n",
    "       df = Dataset name\n",
    "       col = Column name'''\n",
    "    \n",
    "    q1 = df[col].describe()['25%']\n",
    "    q3 = df[col].describe()['75%']\n",
    "    iqr = q3 - q1\n",
    "    lower = q1 - 1.5*iqr\n",
    "    upper = q3 + 1.5*iqr\n",
    "    \n",
    "    n_out = df[(df[col]<=lower)|(df[col]>=upper)].shape[0]\n",
    "    n_pct = round(n_out/len(df[col])*100, 2)\n",
    "    \n",
    "    return 'Identified outlier in {}: \\n {} records, \\n {} percent, \\n lower threshold: {} \\n upper threshold: {} \\n'.format(\n",
    "        col, n_out, n_pct, round(lower, 3), round(upper, 3))\n",
    "\n",
    "for column in num_feats:\n",
    "    print(out_iqr(df, column))"
   ]
  },
  {
   "cell_type": "code",
   "execution_count": 101,
   "metadata": {
    "ExecuteTime": {
     "end_time": "2020-06-12T08:02:30.107828Z",
     "start_time": "2020-06-12T08:02:30.103829Z"
    }
   },
   "outputs": [],
   "source": [
    "# outlier 100% diakibatkan salah satu label mendominasi sehingga Q1=Q2=Q3 tapi sbnrnya OK\n",
    "# untuk yg lainnya outlier kecil < 5%"
   ]
  },
  {
   "cell_type": "code",
   "execution_count": 102,
   "metadata": {
    "ExecuteTime": {
     "end_time": "2020-06-12T08:02:30.491324Z",
     "start_time": "2020-06-12T08:02:30.448353Z"
    }
   },
   "outputs": [
    {
     "data": {
      "text/html": [
       "<div>\n",
       "<style scoped>\n",
       "    .dataframe tbody tr th:only-of-type {\n",
       "        vertical-align: middle;\n",
       "    }\n",
       "\n",
       "    .dataframe tbody tr th {\n",
       "        vertical-align: top;\n",
       "    }\n",
       "\n",
       "    .dataframe thead th {\n",
       "        text-align: right;\n",
       "    }\n",
       "</style>\n",
       "<table border=\"1\" class=\"dataframe\">\n",
       "  <thead>\n",
       "    <tr style=\"text-align: right;\">\n",
       "      <th></th>\n",
       "      <th>is_canceled</th>\n",
       "      <th>lead_time</th>\n",
       "      <th>booking_changes</th>\n",
       "      <th>days_in_waiting_list</th>\n",
       "      <th>adr</th>\n",
       "      <th>required_car_parking_spaces</th>\n",
       "      <th>total_of_special_requests</th>\n",
       "      <th>length_stay</th>\n",
       "      <th>number_guest</th>\n",
       "      <th>change_room_type</th>\n",
       "    </tr>\n",
       "  </thead>\n",
       "  <tbody>\n",
       "    <tr>\n",
       "      <th>count</th>\n",
       "      <td>3000.000000</td>\n",
       "      <td>3000.000000</td>\n",
       "      <td>3000.000000</td>\n",
       "      <td>3000.000000</td>\n",
       "      <td>3000.000000</td>\n",
       "      <td>3000.000000</td>\n",
       "      <td>3000.000000</td>\n",
       "      <td>3000.000000</td>\n",
       "      <td>3000.000000</td>\n",
       "      <td>3000.000000</td>\n",
       "    </tr>\n",
       "    <tr>\n",
       "      <th>mean</th>\n",
       "      <td>0.354333</td>\n",
       "      <td>63.740667</td>\n",
       "      <td>0.210333</td>\n",
       "      <td>0.345667</td>\n",
       "      <td>105.005467</td>\n",
       "      <td>0.132000</td>\n",
       "      <td>0.728000</td>\n",
       "      <td>4.812000</td>\n",
       "      <td>2.191667</td>\n",
       "      <td>0.178333</td>\n",
       "    </tr>\n",
       "    <tr>\n",
       "      <th>std</th>\n",
       "      <td>0.478391</td>\n",
       "      <td>61.241921</td>\n",
       "      <td>0.641532</td>\n",
       "      <td>4.022716</td>\n",
       "      <td>54.367602</td>\n",
       "      <td>0.340511</td>\n",
       "      <td>0.868102</td>\n",
       "      <td>3.341114</td>\n",
       "      <td>2.054671</td>\n",
       "      <td>0.382857</td>\n",
       "    </tr>\n",
       "    <tr>\n",
       "      <th>min</th>\n",
       "      <td>0.000000</td>\n",
       "      <td>0.000000</td>\n",
       "      <td>0.000000</td>\n",
       "      <td>0.000000</td>\n",
       "      <td>0.000000</td>\n",
       "      <td>0.000000</td>\n",
       "      <td>0.000000</td>\n",
       "      <td>0.000000</td>\n",
       "      <td>0.000000</td>\n",
       "      <td>0.000000</td>\n",
       "    </tr>\n",
       "    <tr>\n",
       "      <th>25%</th>\n",
       "      <td>0.000000</td>\n",
       "      <td>20.000000</td>\n",
       "      <td>0.000000</td>\n",
       "      <td>0.000000</td>\n",
       "      <td>61.350000</td>\n",
       "      <td>0.000000</td>\n",
       "      <td>0.000000</td>\n",
       "      <td>2.000000</td>\n",
       "      <td>2.000000</td>\n",
       "      <td>0.000000</td>\n",
       "    </tr>\n",
       "    <tr>\n",
       "      <th>50%</th>\n",
       "      <td>0.000000</td>\n",
       "      <td>52.000000</td>\n",
       "      <td>0.000000</td>\n",
       "      <td>0.000000</td>\n",
       "      <td>100.680000</td>\n",
       "      <td>0.000000</td>\n",
       "      <td>0.000000</td>\n",
       "      <td>4.000000</td>\n",
       "      <td>2.000000</td>\n",
       "      <td>0.000000</td>\n",
       "    </tr>\n",
       "    <tr>\n",
       "      <th>75%</th>\n",
       "      <td>1.000000</td>\n",
       "      <td>90.000000</td>\n",
       "      <td>0.000000</td>\n",
       "      <td>0.000000</td>\n",
       "      <td>138.850000</td>\n",
       "      <td>0.000000</td>\n",
       "      <td>1.000000</td>\n",
       "      <td>7.000000</td>\n",
       "      <td>2.000000</td>\n",
       "      <td>0.000000</td>\n",
       "    </tr>\n",
       "    <tr>\n",
       "      <th>max</th>\n",
       "      <td>1.000000</td>\n",
       "      <td>737.000000</td>\n",
       "      <td>17.000000</td>\n",
       "      <td>50.000000</td>\n",
       "      <td>299.330000</td>\n",
       "      <td>2.000000</td>\n",
       "      <td>4.000000</td>\n",
       "      <td>46.000000</td>\n",
       "      <td>55.000000</td>\n",
       "      <td>1.000000</td>\n",
       "    </tr>\n",
       "  </tbody>\n",
       "</table>\n",
       "</div>"
      ],
      "text/plain": [
       "       is_canceled    lead_time  booking_changes  days_in_waiting_list  \\\n",
       "count  3000.000000  3000.000000      3000.000000           3000.000000   \n",
       "mean      0.354333    63.740667         0.210333              0.345667   \n",
       "std       0.478391    61.241921         0.641532              4.022716   \n",
       "min       0.000000     0.000000         0.000000              0.000000   \n",
       "25%       0.000000    20.000000         0.000000              0.000000   \n",
       "50%       0.000000    52.000000         0.000000              0.000000   \n",
       "75%       1.000000    90.000000         0.000000              0.000000   \n",
       "max       1.000000   737.000000        17.000000             50.000000   \n",
       "\n",
       "               adr  required_car_parking_spaces  total_of_special_requests  \\\n",
       "count  3000.000000                  3000.000000                3000.000000   \n",
       "mean    105.005467                     0.132000                   0.728000   \n",
       "std      54.367602                     0.340511                   0.868102   \n",
       "min       0.000000                     0.000000                   0.000000   \n",
       "25%      61.350000                     0.000000                   0.000000   \n",
       "50%     100.680000                     0.000000                   0.000000   \n",
       "75%     138.850000                     0.000000                   1.000000   \n",
       "max     299.330000                     2.000000                   4.000000   \n",
       "\n",
       "       length_stay  number_guest  change_room_type  \n",
       "count  3000.000000   3000.000000       3000.000000  \n",
       "mean      4.812000      2.191667          0.178333  \n",
       "std       3.341114      2.054671          0.382857  \n",
       "min       0.000000      0.000000          0.000000  \n",
       "25%       2.000000      2.000000          0.000000  \n",
       "50%       4.000000      2.000000          0.000000  \n",
       "75%       7.000000      2.000000          0.000000  \n",
       "max      46.000000     55.000000          1.000000  "
      ]
     },
     "execution_count": 102,
     "metadata": {},
     "output_type": "execute_result"
    }
   ],
   "source": [
    "df.describe()\n",
    "\n",
    "# no negative values: check\n",
    "# max values mungkin terjadi: check\n",
    "\n",
    "# let's keep outliers"
   ]
  },
  {
   "cell_type": "code",
   "execution_count": 109,
   "metadata": {
    "ExecuteTime": {
     "end_time": "2020-06-12T08:06:57.119228Z",
     "start_time": "2020-06-12T08:06:55.834025Z"
    },
    "scrolled": false
   },
   "outputs": [
    {
     "data": {
      "image/png": "[encoded data removed]",
      "text/plain": [
       "<Figure size 432x288 with 1 Axes>"
      ]
     },
     "metadata": {},
     "output_type": "display_data"
    },
    {
     "data": {
      "image/png": "[encoded data removed]",
      "text/plain": [
       "<Figure size 432x288 with 1 Axes>"
      ]
     },
     "metadata": {},
     "output_type": "display_data"
    },
    {
     "data": {
      "image/png": "[encoded data removed]",
      "text/plain": [
       "<Figure size 432x288 with 1 Axes>"
      ]
     },
     "metadata": {},
     "output_type": "display_data"
    },
    {
     "data": {
      "image/png": "[encoded data removed]",
      "text/plain": [
       "<Figure size 432x288 with 1 Axes>"
      ]
     },
     "metadata": {},
     "output_type": "display_data"
    },
    {
     "data": {
      "image/png": "[encoded data removed]",
      "text/plain": [
       "<Figure size 432x288 with 1 Axes>"
      ]
     },
     "metadata": {},
     "output_type": "display_data"
    },
    {
     "data": {
      "image/png": "[encoded data removed]",
      "text/plain": [
       "<Figure size 432x288 with 1 Axes>"
      ]
     },
     "metadata": {},
     "output_type": "display_data"
    },
    {
     "data": {
      "image/png": "[encoded data removed]",
      "text/plain": [
       "<Figure size 432x288 with 1 Axes>"
      ]
     },
     "metadata": {},
     "output_type": "display_data"
    },
    {
     "data": {
      "image/png": "[encoded data removed]",
      "text/plain": [
       "<Figure size 432x288 with 1 Axes>"
      ]
     },
     "metadata": {},
     "output_type": "display_data"
    },
    {
     "data": {
      "image/png": "[encoded data removed]",
      "text/plain": [
       "<Figure size 432x288 with 1 Axes>"
      ]
     },
     "metadata": {},
     "output_type": "display_data"
    }
   ],
   "source": [
    "for feat in cat_feats:\n",
    "    sns.countplot(df[feat])\n",
    "    plt.xticks(rotation=30)\n",
    "    plt.show()"
   ]
  },
  {
   "cell_type": "code",
   "execution_count": 118,
   "metadata": {
    "ExecuteTime": {
     "end_time": "2020-06-12T08:09:52.306689Z",
     "start_time": "2020-06-12T08:09:52.268713Z"
    }
   },
   "outputs": [
    {
     "data": {
      "text/plain": [
       "arrival_date_month            July\n",
       "meal                            BB\n",
       "market_segment           Online TA\n",
       "distribution_channel         TA/TO\n",
       "reserved_room_type               A\n",
       "assigned_room_type               A\n",
       "deposit_type            No Deposit\n",
       "customer_type            Transient\n",
       "Name: top, dtype: object"
      ]
     },
     "execution_count": 118,
     "metadata": {},
     "output_type": "execute_result"
    }
   ],
   "source": [
    "df[cat_feats].describe(exclude='number').iloc[2]\n",
    "\n",
    "# terpopuler"
   ]
  },
  {
   "cell_type": "markdown",
   "metadata": {},
   "source": [
    "Insights:\n",
    "* Hotel paling ramai pada bulan Juli (tengah musim panas). Disarankan untuk mengecek apakah jumlah personel, perlengkapan (sourcing), makanan sudah dipersiapkan sehingga cukup untuk melayani guest.\n",
    "* Guest hampir tidak pernah memesan paket makanan selain breakfast, yang biasanya sudah included dengan fare package room (gratis dengan room). Jikapun memesan tambahan, biasanya hanya menambahkan dinner.\n",
    "* Guest menyukai booking hotel dengan travel agent, melalui online. Mungkin ini cara yang paling praktis menurut guest."
   ]
  },
  {
   "cell_type": "code",
   "execution_count": 124,
   "metadata": {
    "ExecuteTime": {
     "end_time": "2020-06-12T10:03:06.600981Z",
     "start_time": "2020-06-12T10:03:06.334429Z"
    }
   },
   "outputs": [
    {
     "data": {
      "text/plain": [
       "<matplotlib.axes._subplots.AxesSubplot at 0xbfd3910>"
      ]
     },
     "execution_count": 124,
     "metadata": {},
     "output_type": "execute_result"
    },
    {
     "data": {
      "image/png": "[encoded data removed]",
      "text/plain": [
       "<Figure size 432x288 with 1 Axes>"
      ]
     },
     "metadata": {},
     "output_type": "display_data"
    }
   ],
   "source": [
    "sns.boxplot(data = df,\n",
    "            x = 'adr',\n",
    "            y = 'market_segment',\n",
    "           )"
   ]
  },
  {
   "cell_type": "markdown",
   "metadata": {},
   "source": [
    "Booking secara group & corporate (jumlah guest atau booking banyak) paling ekonomis bagi guest."
   ]
  },
  {
   "cell_type": "code",
   "execution_count": 110,
   "metadata": {
    "ExecuteTime": {
     "end_time": "2020-06-12T08:07:28.811826Z",
     "start_time": "2020-06-12T08:07:28.691389Z"
    }
   },
   "outputs": [
    {
     "data": {
      "text/plain": [
       "<matplotlib.axes._subplots.AxesSubplot at 0x4aa0f30>"
      ]
     },
     "execution_count": 110,
     "metadata": {},
     "output_type": "execute_result"
    },
    {
     "data": {
      "image/png": "[encoded data removed]",
      "text/plain": [
       "<Figure size 432x288 with 1 Axes>"
      ]
     },
     "metadata": {},
     "output_type": "display_data"
    }
   ],
   "source": [
    "sns.countplot(df[target])\n",
    "\n",
    "# 1 = cancel"
   ]
  },
  {
   "cell_type": "code",
   "execution_count": 111,
   "metadata": {
    "ExecuteTime": {
     "end_time": "2020-06-12T08:08:14.572208Z",
     "start_time": "2020-06-12T08:08:14.557217Z"
    }
   },
   "outputs": [
    {
     "data": {
      "text/plain": [
       "0    64.57%\n",
       "1    35.43%\n",
       "Name: is_canceled, dtype: object"
      ]
     },
     "execution_count": 111,
     "metadata": {},
     "output_type": "execute_result"
    }
   ],
   "source": [
    "def composition(col):\n",
    "    return df[col].value_counts().apply(lambda x: str(round(x/df[col].value_counts().sum()*100, 2))+'%')\n",
    "\n",
    "composition(target)\n",
    "\n",
    "# rasio cukup ok, tidak imbalance"
   ]
  },
  {
   "cell_type": "markdown",
   "metadata": {
    "ExecuteTime": {
     "end_time": "2020-06-12T08:14:21.758204Z",
     "start_time": "2020-06-12T08:14:21.744212Z"
    }
   },
   "source": [
    "## Export"
   ]
  },
  {
   "cell_type": "code",
   "execution_count": 122,
   "metadata": {
    "ExecuteTime": {
     "end_time": "2020-06-12T08:16:22.180936Z",
     "start_time": "2020-06-12T08:16:22.148957Z"
    }
   },
   "outputs": [],
   "source": [
    "df.to_csv('hotel_bookings_clean.csv', index=False)"
   ]
  },
  {
   "cell_type": "code",
   "execution_count": null,
   "metadata": {},
   "outputs": [],
   "source": []
  }
 ],
 "metadata": {
  "kernelspec": {
   "display_name": "Python 3",
   "language": "python",
   "name": "python3"
  },
  "language_info": {
   "codemirror_mode": {
    "name": "ipython",
    "version": 3
   },
   "file_extension": ".py",
   "mimetype": "text/x-python",
   "name": "python",
   "nbconvert_exporter": "python",
   "pygments_lexer": "ipython3",
   "version": "3.7.6"
  },
  "toc": {
   "base_numbering": 1,
   "nav_menu": {},
   "number_sections": true,
   "sideBar": true,
   "skip_h1_title": false,
   "title_cell": "Table of Contents",
   "title_sidebar": "Contents",
   "toc_cell": false,
   "toc_position": {
    "height": "calc(100% - 180px)",
    "left": "10px",
    "top": "150px",
    "width": "256px"
   },
   "toc_section_display": true,
   "toc_window_display": true
  },
  "varInspector": {
   "cols": {
    "lenName": 16,
    "lenType": 16,
    "lenVar": 40
   },
   "kernels_config": {
    "python": {
     "delete_cmd_postfix": "",
     "delete_cmd_prefix": "del ",
     "library": "var_list.py",
     "varRefreshCmd": "print(var_dic_list())"
    },
    "r": {
     "delete_cmd_postfix": ") ",
     "delete_cmd_prefix": "rm(",
     "library": "var_list.r",
     "varRefreshCmd": "cat(var_dic_list()) "
    }
   },
   "types_to_exclude": [
    "module",
    "function",
    "builtin_function_or_method",
    "instance",
    "_Feature"
   ],
   "window_display": false
  }
 },
 "nbformat": 4,
 "nbformat_minor": 4
}
